{
 "cells": [
  {
   "cell_type": "code",
   "execution_count": 1,
   "metadata": {},
   "outputs": [
    {
     "data": {
      "text/plain": [
       "'/Users/kelly/metis_v3/Project_5'"
      ]
     },
     "execution_count": 1,
     "metadata": {},
     "output_type": "execute_result"
    }
   ],
   "source": [
    "pwd"
   ]
  },
  {
   "cell_type": "code",
   "execution_count": 2,
   "metadata": {},
   "outputs": [],
   "source": [
    "import numpy as np\n",
    "import pandas as pd"
   ]
  },
  {
   "cell_type": "code",
   "execution_count": 5,
   "metadata": {},
   "outputs": [],
   "source": [
    "from scipy.sparse.linalg import svds\n",
    "from scipy.sparse import lil_matrix\n",
    "from scipy.sparse import csr_matrix"
   ]
  },
  {
   "cell_type": "code",
   "execution_count": 352,
   "metadata": {},
   "outputs": [],
   "source": [
    "ratings_df = pd.read_csv('ratings.csv')\n",
    "book_df = pd.read_csv('books.csv')"
   ]
  },
  {
   "cell_type": "code",
   "execution_count": 2,
   "metadata": {},
   "outputs": [],
   "source": [
    "from pymongo import MongoClient\n",
    "client = MongoClient()\n",
    "db = client.goodreads\n",
    "books = db.books"
   ]
  },
  {
   "cell_type": "code",
   "execution_count": 1,
   "metadata": {},
   "outputs": [],
   "source": [
    "#books.find_one()"
   ]
  },
  {
   "cell_type": "code",
   "execution_count": 5,
   "metadata": {},
   "outputs": [],
   "source": [
    "ratings = db.ratings\n",
    "booktags = db.booktags\n",
    "tags = db.tags"
   ]
  },
  {
   "cell_type": "code",
   "execution_count": 6,
   "metadata": {},
   "outputs": [],
   "source": [
    "#pip install mongojoin"
   ]
  },
  {
   "cell_type": "code",
   "execution_count": 7,
   "metadata": {},
   "outputs": [],
   "source": [
    "import pprint"
   ]
  },
  {
   "cell_type": "code",
   "execution_count": 8,
   "metadata": {},
   "outputs": [
    {
     "name": "stdout",
     "output_type": "stream",
     "text": [
      "{'Book ID': 8210, 'Title': 'Den lille havfrue'}\n",
      "{'Book ID': 7785, 'Title': 'Dawn'}\n",
      "{'Book ID': 2406, 'Title': 'The Mammoth Hunters'}\n",
      "{'Book ID': 7306, 'Title': 'Say Cheese and Die!'}\n",
      "{'Book ID': 815, 'Title': 'No Country for Old Men'}\n"
     ]
    }
   ],
   "source": [
    "for book in db.books.aggregate([{'$sample':{'size':5}},\n",
    "                    {'$project':{'_id':0,'Book ID':'$book_id','Title':'$original_title'}}\n",
    "                   ]):\n",
    "        pprint.pprint(book)"
   ]
  },
  {
   "cell_type": "code",
   "execution_count": 9,
   "metadata": {},
   "outputs": [
    {
     "name": "stdout",
     "output_type": "stream",
     "text": [
      "{'Book ID': 4914, 'Title': 'Starless Night (Legacy of the Drow #2)'}\n",
      "{'Book ID': 4629, 'Title': 'The Expats'}\n",
      "{'Book ID': 5304, 'Title': 'Midnight'}\n",
      "{'Book ID': 1180, 'Title': 'The Forty Rules of Love'}\n",
      "{'Book ID': 8216, 'Title': \"Hornet's Nest\"}\n"
     ]
    }
   ],
   "source": [
    "for book in db.books.aggregate([{'$sample':{'size':5}},\n",
    "                    {'$lookup': {\n",
    "                        'from': 'ratings',\n",
    "                        'localField': 'book_id',\n",
    "                        'foreignField': 'book_id',\n",
    "                        'as': 'joined'},\n",
    "                    },\n",
    "                    {'$project':{'_id':0,'Book ID':'$book_id','Title':'$original_title'}}\n",
    "                   ]):\n",
    "        pprint.pprint(book)"
   ]
  },
  {
   "cell_type": "code",
   "execution_count": 10,
   "metadata": {},
   "outputs": [
    {
     "name": "stdout",
     "output_type": "stream",
     "text": [
      "Book ID:  2\n",
      "Title:  Harry Potter and the Philosopher's Stone\n"
     ]
    }
   ],
   "source": [
    "for book in db.books.find({\"book_id\":2}):\n",
    "    print('Book ID: ', book['book_id'])\n",
    "    print('Title: ', book['original_title'])"
   ]
  },
  {
   "cell_type": "code",
   "execution_count": 11,
   "metadata": {},
   "outputs": [],
   "source": [
    "def find_book_info(ID):\n",
    "    for book in db.books.find({'book_id':ID}):\n",
    "        print (book)"
   ]
  },
  {
   "cell_type": "code",
   "execution_count": 13,
   "metadata": {},
   "outputs": [],
   "source": [
    "def find_book_rating(ID):\n",
    "    for book in db.books.find({'book_id':ID}):\n",
    "        print (book['average_rating'])"
   ]
  },
  {
   "cell_type": "code",
   "execution_count": 14,
   "metadata": {},
   "outputs": [],
   "source": [
    "def find_book_title(ID):\n",
    "    for book in db.books.find({'book_id':ID}):\n",
    "#        print('Book ID: ', book['book_id'])\n",
    "        print(book['original_title'])"
   ]
  },
  {
   "cell_type": "code",
   "execution_count": 486,
   "metadata": {},
   "outputs": [],
   "source": [
    "'''\n",
    "def find_similar_books(itemID, VT, num_recom):\n",
    "    recs = []\n",
    "    for item in range(VT.T.shape[0]):\n",
    "        if item != itemID:\n",
    "            recs.append([item+1,np.dot(VT.T[itemID-1],VT.T[item])])\n",
    "    final_rec = [(i[0],i[1]) for i in sorted(recs,key=lambda x: x[1],reverse=True)]\n",
    "    return final_rec[:num_recom]\n",
    "    '''"
   ]
  },
  {
   "cell_type": "code",
   "execution_count": 41,
   "metadata": {},
   "outputs": [],
   "source": [
    "mat = lil_matrix((53000,10000)) #linked list matrix"
   ]
  },
  {
   "cell_type": "code",
   "execution_count": 42,
   "metadata": {},
   "outputs": [
    {
     "data": {
      "text/plain": [
       "(53000, 10000)"
      ]
     },
     "execution_count": 42,
     "metadata": {},
     "output_type": "execute_result"
    }
   ],
   "source": [
    "mat.shape"
   ]
  },
  {
   "cell_type": "code",
   "execution_count": 91,
   "metadata": {},
   "outputs": [],
   "source": [
    "rating_cursor = ratings.aggregate([{'$sample':{'size':5}}]) "
   ]
  },
  {
   "cell_type": "code",
   "execution_count": 96,
   "metadata": {},
   "outputs": [
    {
     "data": {
      "text/plain": [
       "<pymongo.command_cursor.CommandCursor at 0x110022208>"
      ]
     },
     "execution_count": 96,
     "metadata": {},
     "output_type": "execute_result"
    }
   ],
   "source": [
    "rating_cursor"
   ]
  },
  {
   "cell_type": "code",
   "execution_count": 92,
   "metadata": {},
   "outputs": [
    {
     "name": "stdout",
     "output_type": "stream",
     "text": [
      "11745.0\n",
      "2979.0\n",
      "3.0\n",
      "30118.0\n",
      "6380.0\n",
      "4.0\n",
      "26240.0\n",
      "2416.0\n",
      "5.0\n",
      "4924.0\n",
      "8402.0\n",
      "5.0\n",
      "19777.0\n",
      "2838.0\n",
      "2.0\n"
     ]
    }
   ],
   "source": [
    "#Test small sample of 5\n",
    "\n",
    "for rating in rating_cursor:\n",
    "        u = float(rating['user_id'])\n",
    "        print(u)\n",
    "        b = float(rating['book_id'])\n",
    "        print(b)\n",
    "        r = float(rating['rating'])\n",
    "        print(r)\n",
    "        mat[u, b] = r"
   ]
  },
  {
   "cell_type": "code",
   "execution_count": 83,
   "metadata": {},
   "outputs": [
    {
     "data": {
      "text/plain": [
       "array([list([]), list([7.0]), list([8.0]), ..., list([]), list([]),\n",
       "       list([])], dtype=object)"
      ]
     },
     "execution_count": 83,
     "metadata": {},
     "output_type": "execute_result"
    }
   ],
   "source": [
    "mat.data"
   ]
  },
  {
   "cell_type": "code",
   "execution_count": 77,
   "metadata": {},
   "outputs": [
    {
     "data": {
      "text/plain": [
       "(53000, 10000)"
      ]
     },
     "execution_count": 77,
     "metadata": {},
     "output_type": "execute_result"
    }
   ],
   "source": [
    "mat.shape"
   ]
  },
  {
   "cell_type": "code",
   "execution_count": 93,
   "metadata": {},
   "outputs": [
    {
     "data": {
      "text/plain": [
       "19.0"
      ]
     },
     "execution_count": 93,
     "metadata": {},
     "output_type": "execute_result"
    }
   ],
   "source": [
    "mat.sum()"
   ]
  },
  {
   "cell_type": "code",
   "execution_count": 95,
   "metadata": {},
   "outputs": [
    {
     "name": "stdout",
     "output_type": "stream",
     "text": [
      "  (4924, 8402)\t5.0\n",
      "  (11745, 2979)\t3.0\n",
      "  (19777, 2838)\t2.0\n",
      "  (26240, 2416)\t5.0\n",
      "  (30118, 6380)\t4.0\n"
     ]
    }
   ],
   "source": [
    "print(mat)"
   ]
  },
  {
   "cell_type": "code",
   "execution_count": 61,
   "metadata": {},
   "outputs": [],
   "source": [
    "for u, b, r in zip (u, b, r):\n",
    "    mat[u,b] = r"
   ]
  },
  {
   "cell_type": "code",
   "execution_count": 58,
   "metadata": {},
   "outputs": [
    {
     "data": {
      "text/plain": [
       "47524"
      ]
     },
     "execution_count": 58,
     "metadata": {},
     "output_type": "execute_result"
    }
   ],
   "source": [
    "int(rating['user_id'])"
   ]
  },
  {
   "cell_type": "code",
   "execution_count": 115,
   "metadata": {},
   "outputs": [],
   "source": [
    "large_mat = lil_matrix((53425,10001)) #linked list matrix"
   ]
  },
  {
   "cell_type": "code",
   "execution_count": 116,
   "metadata": {},
   "outputs": [],
   "source": [
    "large_rating_cursor = ratings.find()#aggregate([{'$sample':{'size':100000}}]) "
   ]
  },
  {
   "cell_type": "code",
   "execution_count": 117,
   "metadata": {},
   "outputs": [],
   "source": [
    "#Apply to all data\n",
    "\n",
    "for rating in large_rating_cursor:\n",
    "        u = float(rating['user_id'])\n",
    "        b = float(rating['book_id'])\n",
    "        r = float(rating['rating'])\n",
    "        large_mat[u, b] = r"
   ]
  },
  {
   "cell_type": "code",
   "execution_count": 118,
   "metadata": {},
   "outputs": [
    {
     "data": {
      "text/plain": [
       "427400"
      ]
     },
     "execution_count": 118,
     "metadata": {},
     "output_type": "execute_result"
    }
   ],
   "source": [
    "large_mat.data.nbytes"
   ]
  },
  {
   "cell_type": "code",
   "execution_count": 111,
   "metadata": {},
   "outputs": [],
   "source": [
    "from scipy.sparse import csr_matrix"
   ]
  },
  {
   "cell_type": "code",
   "execution_count": 121,
   "metadata": {},
   "outputs": [
    {
     "data": {
      "text/plain": [
       "47811832"
      ]
     },
     "execution_count": 121,
     "metadata": {},
     "output_type": "execute_result"
    }
   ],
   "source": [
    "large_mat.tocsr().data.nbytes"
   ]
  },
  {
   "cell_type": "code",
   "execution_count": 122,
   "metadata": {},
   "outputs": [],
   "source": [
    "csr_mat = large_mat.tocsr()"
   ]
  },
  {
   "cell_type": "code",
   "execution_count": 124,
   "metadata": {},
   "outputs": [
    {
     "data": {
      "text/plain": [
       "(53425, 10001)"
      ]
     },
     "execution_count": 124,
     "metadata": {},
     "output_type": "execute_result"
    }
   ],
   "source": [
    "csr_mat.shape"
   ]
  },
  {
   "cell_type": "code",
   "execution_count": 164,
   "metadata": {},
   "outputs": [
    {
     "data": {
      "text/plain": [
       "(53425, 100)"
      ]
     },
     "execution_count": 164,
     "metadata": {},
     "output_type": "execute_result"
    }
   ],
   "source": [
    "U.shape"
   ]
  },
  {
   "cell_type": "code",
   "execution_count": 165,
   "metadata": {},
   "outputs": [
    {
     "data": {
      "text/plain": [
       "(100,)"
      ]
     },
     "execution_count": 165,
     "metadata": {},
     "output_type": "execute_result"
    }
   ],
   "source": [
    "s.shape"
   ]
  },
  {
   "cell_type": "code",
   "execution_count": 166,
   "metadata": {},
   "outputs": [
    {
     "data": {
      "text/plain": [
       "(100, 10001)"
      ]
     },
     "execution_count": 166,
     "metadata": {},
     "output_type": "execute_result"
    }
   ],
   "source": [
    "VT.shape"
   ]
  },
  {
   "cell_type": "code",
   "execution_count": 167,
   "metadata": {},
   "outputs": [
    {
     "data": {
      "text/plain": [
       "array([5., 4., 5., ..., 5., 4., 4.])"
      ]
     },
     "execution_count": 167,
     "metadata": {},
     "output_type": "execute_result"
    }
   ],
   "source": [
    "csr_mat.data"
   ]
  },
  {
   "cell_type": "code",
   "execution_count": 171,
   "metadata": {},
   "outputs": [
    {
     "data": {
      "text/plain": [
       "(53425, 10001)"
      ]
     },
     "execution_count": 171,
     "metadata": {},
     "output_type": "execute_result"
    }
   ],
   "source": [
    "csr_mat.shape"
   ]
  },
  {
   "cell_type": "code",
   "execution_count": 260,
   "metadata": {},
   "outputs": [],
   "source": [
    "U, s, VT = svds(csr_mat,k=175)"
   ]
  },
  {
   "cell_type": "code",
   "execution_count": 276,
   "metadata": {},
   "outputs": [
    {
     "data": {
      "text/plain": [
       "74795000"
      ]
     },
     "execution_count": 276,
     "metadata": {},
     "output_type": "execute_result"
    }
   ],
   "source": [
    "U.data.nbytes"
   ]
  },
  {
   "cell_type": "code",
   "execution_count": 277,
   "metadata": {},
   "outputs": [
    {
     "data": {
      "text/plain": [
       "14001400"
      ]
     },
     "execution_count": 277,
     "metadata": {},
     "output_type": "execute_result"
    }
   ],
   "source": [
    "VT.data.nbytes"
   ]
  },
  {
   "cell_type": "code",
   "execution_count": 279,
   "metadata": {},
   "outputs": [],
   "source": [
    "import pickle"
   ]
  },
  {
   "cell_type": "code",
   "execution_count": 280,
   "metadata": {},
   "outputs": [],
   "source": [
    "with open ('U.pickle', 'wb') as to_write:\n",
    "    pickle.dump(U, to_write)"
   ]
  },
  {
   "cell_type": "code",
   "execution_count": 281,
   "metadata": {},
   "outputs": [],
   "source": [
    "with open ('VT.pickle', 'wb') as to_write:\n",
    "    pickle.dump(VT, to_write)"
   ]
  },
  {
   "cell_type": "code",
   "execution_count": 261,
   "metadata": {},
   "outputs": [],
   "source": [
    "def get_recommendations_for_user(userID, U, VT, num_recom):\n",
    "    recs = []\n",
    "    for item in range(VT.T.shape[0]):\n",
    "        recs.append([item+1,np.dot(U[userID-1],VT.T[item])])\n",
    "    final_rec = [(i[0],i[1]) for i in sorted(recs,key=lambda x: x[1],reverse=True)]\n",
    "    return final_rec[:num_recom]"
   ]
  },
  {
   "cell_type": "code",
   "execution_count": 262,
   "metadata": {},
   "outputs": [],
   "source": [
    "def item_similarity(item1,item2):\n",
    "    return np.dot(VT.T[item1],VT.T[item2])"
   ]
  },
  {
   "cell_type": "code",
   "execution_count": 527,
   "metadata": {},
   "outputs": [
    {
     "name": "stdout",
     "output_type": "stream",
     "text": [
      "The Girl on the Train\n",
      "Cien años de soledad\n",
      "The Glass Castle\n",
      "The Notebook\n",
      "My Sister's Keeper\n",
      "Tuesdays with Morrie\n",
      "The Giver\n",
      "An Excellent conceited Tragedie of Romeo and Juliet\n",
      "Gone Girl\n",
      "Catching Fire\n",
      "The Catcher in the Rye\n"
     ]
    }
   ],
   "source": [
    "USERID=20000\n",
    "num_recom = 11\n",
    "rec_list = []\n",
    "for item in get_recommendations_for_user(USERID,U,VT,num_recom):\n",
    "#    print(ix, find_book_title(item[0]), end=\"\")\n",
    "#    print(item[0])\n",
    "    find_book_title(item[0])\n",
    "#    find_book_rating(item[0])"
   ]
  },
  {
   "cell_type": "code",
   "execution_count": 327,
   "metadata": {},
   "outputs": [
    {
     "name": "stdout",
     "output_type": "stream",
     "text": [
      "The Hunger Games\n",
      "Harry Potter and the Philosopher's Stone\n",
      "Twilight\n",
      "To Kill a Mockingbird\n",
      "The Great Gatsby\n",
      "The Fault in Our Stars\n",
      "The Hobbit or There and Back Again\n",
      "The Catcher in the Rye\n",
      "Angels & Demons\n",
      "Pride and Prejudice\n"
     ]
    }
   ],
   "source": [
    "USERID=1\n",
    "num_recom = 10\n",
    "rec_list = []\n",
    "for item in get_recommendations_for_user(USERID,U,VT,num_recom):\n",
    "    find_book_title(item[0])"
   ]
  },
  {
   "cell_type": "code",
   "execution_count": 8,
   "metadata": {},
   "outputs": [],
   "source": [
    "#find books user has rated a 5\n",
    "\n",
    "def find_favorites(user_num):\n",
    "\n",
    "    userread_df = ratings_df[ratings_df.user_id == user_num][ratings_df[ratings_df.user_id == user_num].rating == 5].join(\n",
    "    book_df, how = 'left', lsuffix = ' ', on = 'book_id')[['user_id','book_id','original_title']]\n",
    "    \n",
    "    fav_books = list(userread_df.original_title)\n",
    "    \n",
    "    return fav_books"
   ]
  },
  {
   "cell_type": "code",
   "execution_count": 9,
   "metadata": {},
   "outputs": [
    {
     "name": "stdout",
     "output_type": "stream",
     "text": [
      "User ID: 700\n"
     ]
    },
    {
     "ename": "NameError",
     "evalue": "name 'ratings_df' is not defined",
     "output_type": "error",
     "traceback": [
      "\u001b[0;31m---------------------------------------------------------------------------\u001b[0m",
      "\u001b[0;31mNameError\u001b[0m                                 Traceback (most recent call last)",
      "\u001b[0;32m<ipython-input-9-dedeb7bfb2a3>\u001b[0m in \u001b[0;36m<module>\u001b[0;34m()\u001b[0m\n\u001b[1;32m      4\u001b[0m \u001b[0;34m\u001b[0m\u001b[0m\n\u001b[1;32m      5\u001b[0m \u001b[0mprint\u001b[0m\u001b[0;34m(\u001b[0m\u001b[0;34m\"User ID:\"\u001b[0m\u001b[0;34m,\u001b[0m \u001b[0mUSERID\u001b[0m\u001b[0;34m)\u001b[0m\u001b[0;34m\u001b[0m\u001b[0m\n\u001b[0;32m----> 6\u001b[0;31m \u001b[0mprint\u001b[0m\u001b[0;34m(\u001b[0m\u001b[0;34m'\\nLast Book Read:\\n'\u001b[0m\u001b[0;34m,\u001b[0m\u001b[0mnp\u001b[0m\u001b[0;34m.\u001b[0m\u001b[0mrandom\u001b[0m\u001b[0;34m.\u001b[0m\u001b[0mchoice\u001b[0m\u001b[0;34m(\u001b[0m\u001b[0mfind_favorites\u001b[0m\u001b[0;34m(\u001b[0m\u001b[0mUSERID\u001b[0m\u001b[0;34m)\u001b[0m\u001b[0;34m)\u001b[0m\u001b[0;34m)\u001b[0m\u001b[0;34m\u001b[0m\u001b[0m\n\u001b[0m\u001b[1;32m      7\u001b[0m \u001b[0mprint\u001b[0m\u001b[0;34m(\u001b[0m\u001b[0;34m'\\nRecommendations:\\n'\u001b[0m\u001b[0;34m)\u001b[0m\u001b[0;34m\u001b[0m\u001b[0m\n\u001b[1;32m      8\u001b[0m \u001b[0;32mfor\u001b[0m \u001b[0mitem\u001b[0m \u001b[0;32min\u001b[0m \u001b[0mget_recommendations_for_user\u001b[0m\u001b[0;34m(\u001b[0m\u001b[0mUSERID\u001b[0m\u001b[0;34m,\u001b[0m\u001b[0mU\u001b[0m\u001b[0;34m,\u001b[0m\u001b[0mVT\u001b[0m\u001b[0;34m,\u001b[0m\u001b[0mnum_recom\u001b[0m\u001b[0;34m)\u001b[0m\u001b[0;34m:\u001b[0m\u001b[0;34m\u001b[0m\u001b[0m\n",
      "\u001b[0;32m<ipython-input-8-2dc35cf58a6d>\u001b[0m in \u001b[0;36mfind_favorites\u001b[0;34m(user_num)\u001b[0m\n\u001b[1;32m      3\u001b[0m \u001b[0;32mdef\u001b[0m \u001b[0mfind_favorites\u001b[0m\u001b[0;34m(\u001b[0m\u001b[0muser_num\u001b[0m\u001b[0;34m)\u001b[0m\u001b[0;34m:\u001b[0m\u001b[0;34m\u001b[0m\u001b[0m\n\u001b[1;32m      4\u001b[0m \u001b[0;34m\u001b[0m\u001b[0m\n\u001b[0;32m----> 5\u001b[0;31m     userread_df = ratings_df[ratings_df.user_id == user_num][ratings_df[ratings_df.user_id == user_num].rating == 5].join(\n\u001b[0m\u001b[1;32m      6\u001b[0m     book_df, how = 'left', lsuffix = ' ', on = 'book_id')[['user_id','book_id','original_title']]\n\u001b[1;32m      7\u001b[0m \u001b[0;34m\u001b[0m\u001b[0m\n",
      "\u001b[0;31mNameError\u001b[0m: name 'ratings_df' is not defined"
     ]
    }
   ],
   "source": [
    "USERID=700\n",
    "num_recom = 10\n",
    "rec_list = []\n",
    "\n",
    "print(\"User ID:\", USERID)\n",
    "print('\\nLast Book Read:\\n',np.random.choice(find_favorites(USERID)))\n",
    "print('\\nRecommendations:\\n')\n",
    "for item in get_recommendations_for_user(USERID,U,VT,num_recom):\n",
    "    find_book_title(item[0])"
   ]
  },
  {
   "cell_type": "code",
   "execution_count": 443,
   "metadata": {},
   "outputs": [
    {
     "data": {
      "text/plain": [
       "['Siddhartha',\n",
       " 'The Kite Runner ',\n",
       " 'The Great Gatsby',\n",
       " 'Choke',\n",
       " 'Twilight',\n",
       " 'The Adventures of Tom Sawyer',\n",
       " 'A Thousand Splendid Suns',\n",
       " 'Red Rising',\n",
       " 'Die Verwandlung',\n",
       " 'Beneath This Man ',\n",
       " 'A Walk to Remember',\n",
       " 'Bared to You',\n",
       " 'Hija de la fortuna',\n",
       " 'Jane Eyre',\n",
       " 'The Lion, the Witch and the Wardrobe',\n",
       " 'Rise of a Merchant Prince',\n",
       " 'Fahrenheit 451',\n",
       " 'Shroud for a Nightingale',\n",
       " 'Twice Tempted ',\n",
       " nan,\n",
       " nan,\n",
       " '2010: Odyssey Two',\n",
       " 'Summer Sisters',\n",
       " 'Queen of the Darkness']"
      ]
     },
     "execution_count": 443,
     "metadata": {},
     "output_type": "execute_result"
    }
   ],
   "source": [
    "find_favorites(40)"
   ]
  },
  {
   "cell_type": "code",
   "execution_count": 512,
   "metadata": {},
   "outputs": [
    {
     "name": "stdout",
     "output_type": "stream",
     "text": [
      "The Stand\n",
      "Nesnesitelná lehkost bytí\n",
      "A Light in the Attic\n",
      "The Light Between Oceans\n",
      "The Time Traveler's Wife\n",
      "The Fault in Our Stars\n",
      "The Giver\n",
      "The Perks of Being a Wallflower\n",
      "Divergent\n",
      "Fahrenheit 451\n"
     ]
    }
   ],
   "source": [
    "USERID=96\n",
    "num_recom = 10\n",
    "rec_list = []\n",
    "for item in get_recommendations_for_user(USERID,U,VT,num_recom):\n",
    "    find_book_title(item[0])"
   ]
  },
  {
   "cell_type": "code",
   "execution_count": 518,
   "metadata": {},
   "outputs": [
    {
     "data": {
      "text/plain": [
       "['The Scorch Trials',\n",
       " 'The Crying of Lot 49',\n",
       " 'Divergent',\n",
       " 'Rant: An Oral Biography of Buster Casey',\n",
       " 'Outlander',\n",
       " 'The Giver',\n",
       " 'The Great Gatsby',\n",
       " 'Brooklyn',\n",
       " 'Frankenstein; or, The Modern Prometheus',\n",
       " 'Circling the Sun',\n",
       " \"Dirk Gently's Holistic Detective Agency\",\n",
       " 'Water for Elephants',\n",
       " 'The Bell Jar',\n",
       " 'Le Comte de Monte-Cristo',\n",
       " \"One Flew Over the Cuckoo's Nest\",\n",
       " 'Into the Wild',\n",
       " 'The 4-Hour Workweek: Escape 9-5, Live Anywhere, and Join the New Rich',\n",
       " '2010: Odyssey Two',\n",
       " 'The Novice',\n",
       " 'Evernight',\n",
       " 'Complete Harry Potter Boxed Set',\n",
       " 'Unbroken: A World War II Story of Survival, Resilience, and Redemption']"
      ]
     },
     "execution_count": 518,
     "metadata": {},
     "output_type": "execute_result"
    }
   ],
   "source": [
    "find_favorites(1)"
   ]
  },
  {
   "cell_type": "code",
   "execution_count": 524,
   "metadata": {},
   "outputs": [
    {
     "name": "stdout",
     "output_type": "stream",
     "text": [
      "\n",
      "A Game of Thrones\n",
      "The Five People You Meet in Heaven\n",
      "Allegiant\n",
      "The Time Traveler's Wife\n",
      "Me Talk Pretty One Day\n",
      "Marley & Me: Life and Love with the World's Worst Dog\n",
      "Dark Places\n",
      "Fifty Shades of Grey\n",
      "Harry Potter and the Order of the Phoenix\n"
     ]
    }
   ],
   "source": [
    "USERID=200\n",
    "num_recom = 10\n",
    "rec_list = []\n",
    "for item in get_recommendations_for_user(USERID,U,VT,num_recom):\n",
    "    find_book_title(item[0])"
   ]
  },
  {
   "cell_type": "code",
   "execution_count": 525,
   "metadata": {},
   "outputs": [
    {
     "data": {
      "text/plain": [
       "['City of Glass',\n",
       " 'The Little Engine That Could',\n",
       " 'The Glass Castle',\n",
       " 'Sense and Sensibility',\n",
       " 'Lord of the Flies ',\n",
       " 'Kiss the Girls',\n",
       " 'The Lion, the Witch and the Wardrobe',\n",
       " 'Me Before You',\n",
       " \"The Wise Man's Fear\",\n",
       " 'The Hunt for Red October',\n",
       " 'Breaking Dawn',\n",
       " 'The Great Gatsby',\n",
       " 'Untamed: A House of Night Novel',\n",
       " 'The Snowy Day',\n",
       " 'Twilight',\n",
       " 'Life As We Knew It',\n",
       " \"The General's Daughter\",\n",
       " '90 Minutes in Heaven',\n",
       " 'City of Bones',\n",
       " 'Harry Potter and the Chamber of Secrets',\n",
       " 'A Portrait of the Artist as a Young Man',\n",
       " \"Harry Potter and the Philosopher's Stone\",\n",
       " 'Of Mice and Men ',\n",
       " 'The BFG',\n",
       " 'We3',\n",
       " nan,\n",
       " 'Beneath This Man ',\n",
       " 'A Walk to Remember',\n",
       " 'The Dream Thieves',\n",
       " 'The Road to Character',\n",
       " 'Aftermath',\n",
       " 'Harry Potter and the Prisoner of Azkaban',\n",
       " 'A Stroke of Midnight (Merry Gentry, #4)',\n",
       " 'The Da Vinci Code',\n",
       " 'The Farthest Shore',\n",
       " 'The Maze Runner',\n",
       " 'Lies and the Lying Liars Who Tell Them: A Fair and Balanced Look at the Right',\n",
       " 'Iron Kissed',\n",
       " 'Something Blue',\n",
       " 'Furies of Calderon ',\n",
       " 'Impulse',\n",
       " 'Losing Hope',\n",
       " 'Star Wars: Darth Plagueis',\n",
       " 'Mansfield Park',\n",
       " 'City of Lost Souls',\n",
       " 'The Hobbit or There and Back Again',\n",
       " 'Fahrenheit 451']"
      ]
     },
     "execution_count": 525,
     "metadata": {},
     "output_type": "execute_result"
    }
   ],
   "source": [
    "find_favorites(250)"
   ]
  },
  {
   "cell_type": "code",
   "execution_count": null,
   "metadata": {},
   "outputs": [],
   "source": []
  }
 ],
 "metadata": {
  "kernelspec": {
   "display_name": "Python 3",
   "language": "python",
   "name": "python3"
  },
  "language_info": {
   "codemirror_mode": {
    "name": "ipython",
    "version": 3
   },
   "file_extension": ".py",
   "mimetype": "text/x-python",
   "name": "python",
   "nbconvert_exporter": "python",
   "pygments_lexer": "ipython3",
   "version": "3.6.5"
  }
 },
 "nbformat": 4,
 "nbformat_minor": 2
}
