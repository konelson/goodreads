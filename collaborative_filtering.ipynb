{
 "cells": [
  {
   "cell_type": "code",
   "execution_count": 1,
   "metadata": {},
   "outputs": [
    {
     "data": {
      "text/plain": [
       "'/Users/kelly/metis_v3/Project_5'"
      ]
     },
     "execution_count": 1,
     "metadata": {},
     "output_type": "execute_result"
    }
   ],
   "source": [
    "pwd"
   ]
  },
  {
   "cell_type": "code",
   "execution_count": 3,
   "metadata": {},
   "outputs": [],
   "source": [
    "from pymongo import MongoClient\n",
    "client = MongoClient()\n",
    "db = client.goodreads\n",
    "books = db.books"
   ]
  },
  {
   "cell_type": "code",
   "execution_count": 4,
   "metadata": {},
   "outputs": [
    {
     "data": {
      "text/plain": [
       "10000"
      ]
     },
     "execution_count": 4,
     "metadata": {},
     "output_type": "execute_result"
    }
   ],
   "source": [
    "books.count()"
   ]
  },
  {
   "cell_type": "code",
   "execution_count": 5,
   "metadata": {},
   "outputs": [
    {
     "data": {
      "text/plain": [
       "{'_id': ObjectId('5b88855b21c3f05eeaf945eb'),\n",
       " 'book_id': 1,\n",
       " 'goodreads_book_id': 2767052,\n",
       " 'best_book_id': 2767052,\n",
       " 'work_id': 2792775,\n",
       " 'books_count': 272,\n",
       " 'isbn': 439023483,\n",
       " 'isbn13': 9780439023480.0,\n",
       " 'authors': 'Suzanne Collins',\n",
       " 'original_publication_year': 2008.0,\n",
       " 'original_title': 'The Hunger Games',\n",
       " 'title': 'The Hunger Games (The Hunger Games, #1)',\n",
       " 'language_code': 'eng',\n",
       " 'average_rating': 4.34,\n",
       " 'ratings_count': 4780653,\n",
       " 'work_ratings_count': 4942365,\n",
       " 'work_text_reviews_count': 155254,\n",
       " 'ratings_1': 66715,\n",
       " 'ratings_2': 127936,\n",
       " 'ratings_3': 560092,\n",
       " 'ratings_4': 1481305,\n",
       " 'ratings_5': 2706317,\n",
       " 'image_url': 'https://images.gr-assets.com/books/1447303603m/2767052.jpg',\n",
       " 'small_image_url': 'https://images.gr-assets.com/books/1447303603s/2767052.jpg'}"
      ]
     },
     "execution_count": 5,
     "metadata": {},
     "output_type": "execute_result"
    }
   ],
   "source": [
    "books.find_one()"
   ]
  },
  {
   "cell_type": "code",
   "execution_count": 323,
   "metadata": {},
   "outputs": [],
   "source": [
    "ratings = db.ratings\n",
    "booktags = db.booktags\n",
    "tags = db.tags"
   ]
  },
  {
   "cell_type": "code",
   "execution_count": 328,
   "metadata": {},
   "outputs": [
    {
     "name": "stdout",
     "output_type": "stream",
     "text": [
      "\n",
      "The following command must be run outside of the IPython shell:\n",
      "\n",
      "    $ pip install mongojoin, MongoCollection\n",
      "\n",
      "The Python package manager (pip) can only be used from outside of IPython.\n",
      "Please reissue the `pip` command in a separate terminal or command prompt.\n",
      "\n",
      "See the Python documentation for more information on how to install packages:\n",
      "\n",
      "    https://docs.python.org/3/installing/\n"
     ]
    }
   ],
   "source": [
    "#pip install mongojoin"
   ]
  },
  {
   "cell_type": "code",
   "execution_count": 339,
   "metadata": {},
   "outputs": [],
   "source": [
    "import pprint"
   ]
  },
  {
   "cell_type": "code",
   "execution_count": 352,
   "metadata": {},
   "outputs": [
    {
     "name": "stdout",
     "output_type": "stream",
     "text": [
      "{'Book ID': 8399, 'Title': 'First Among Equals'}\n",
      "{'Book ID': 6640, 'Title': 'Lady Friday'}\n",
      "{'Book ID': 4115, 'Title': 'The Sixth Extinction: An Unnatural History'}\n",
      "{'Book ID': 7638, 'Title': 'The Algebraist'}\n",
      "{'Book ID': 4606, 'Title': 'Paula'}\n"
     ]
    }
   ],
   "source": [
    "for book in db.books.aggregate([{'$sample':{'size':5}},\n",
    "                    {'$project':{'_id':0,'Book ID':'$book_id','Title':'$original_title'}}\n",
    "                   ]):\n",
    "        pprint.pprint(book)"
   ]
  },
  {
   "cell_type": "code",
   "execution_count": 353,
   "metadata": {},
   "outputs": [
    {
     "name": "stdout",
     "output_type": "stream",
     "text": [
      "{'Book ID': 7176, 'Title': 'The Monk'}\n",
      "{'Book ID': 3896, 'Title': 'Living History'}\n",
      "{'Book ID': 5076, 'Title': 'Brief Interviews with Hideous Men'}\n",
      "{'Book ID': 3841, 'Title': 'A Prisoner of Birth'}\n",
      "{'Book ID': 2148, 'Title': 'Monster'}\n"
     ]
    }
   ],
   "source": [
    "for book in db.books.aggregate([{'$sample':{'size':5}},\n",
    "                    {'$lookup': {\n",
    "                        'from': 'ratings',\n",
    "                        'localField': 'book_id',\n",
    "                        'foreignField': 'book_id',\n",
    "                        'as': 'joined'},\n",
    "                    },\n",
    "                    {'$project':{'_id':0,'Book ID':'$book_id','Title':'$original_title'}}\n",
    "                   ]):\n",
    "        pprint.pprint(book)"
   ]
  },
  {
   "cell_type": "code",
   "execution_count": 406,
   "metadata": {},
   "outputs": [
    {
     "name": "stdout",
     "output_type": "stream",
     "text": [
      "Book ID:  2\n",
      "Title:  Harry Potter and the Philosopher's Stone\n"
     ]
    }
   ],
   "source": [
    "for book in db.books.find({\"book_id\":2}):\n",
    "    print('Book ID: ', book['book_id'])\n",
    "    print('Title: ', book['original_title'])"
   ]
  },
  {
   "cell_type": "code",
   "execution_count": 437,
   "metadata": {},
   "outputs": [],
   "source": [
    "def find_book_info(ID):\n",
    "    for book in db.books.find({'book_id':ID}):\n",
    "        print (book)"
   ]
  },
  {
   "cell_type": "code",
   "execution_count": 438,
   "metadata": {},
   "outputs": [
    {
     "name": "stdout",
     "output_type": "stream",
     "text": [
      "{'_id': ObjectId('5b88855b21c3f05eeaf945ec'), 'book_id': 2, 'goodreads_book_id': 3, 'best_book_id': 3, 'work_id': 4640799, 'books_count': 491, 'isbn': 439554934, 'isbn13': 9780439554930.0, 'authors': 'J.K. Rowling, Mary GrandPré', 'original_publication_year': 1997.0, 'original_title': \"Harry Potter and the Philosopher's Stone\", 'title': \"Harry Potter and the Sorcerer's Stone (Harry Potter, #1)\", 'language_code': 'eng', 'average_rating': 4.44, 'ratings_count': 4602479, 'work_ratings_count': 4800065, 'work_text_reviews_count': 75867, 'ratings_1': 75504, 'ratings_2': 101676, 'ratings_3': 455024, 'ratings_4': 1156318, 'ratings_5': 3011543, 'image_url': 'https://images.gr-assets.com/books/1474154022m/3.jpg', 'small_image_url': 'https://images.gr-assets.com/books/1474154022s/3.jpg'}\n"
     ]
    }
   ],
   "source": [
    "find_book_info(2)"
   ]
  },
  {
   "cell_type": "code",
   "execution_count": 441,
   "metadata": {},
   "outputs": [],
   "source": [
    "def find_book_rating(ID):\n",
    "    for book in db.books.find({'book_id':ID}):\n",
    "        print (book['average_rating'])"
   ]
  },
  {
   "cell_type": "code",
   "execution_count": 411,
   "metadata": {},
   "outputs": [],
   "source": [
    "def find_book_title(ID):\n",
    "    for book in db.books.find({'book_id':ID}):\n",
    "#        print('Book ID: ', book['book_id'])\n",
    "        print(book['original_title'])"
   ]
  },
  {
   "cell_type": "code",
   "execution_count": 412,
   "metadata": {},
   "outputs": [
    {
     "name": "stdout",
     "output_type": "stream",
     "text": [
      "Harry Potter and the Philosopher's Stone\n"
     ]
    }
   ],
   "source": [
    "find_book_title(2)"
   ]
  },
  {
   "cell_type": "code",
   "execution_count": 32,
   "metadata": {
    "scrolled": true
   },
   "outputs": [
    {
     "data": {
      "text/plain": [
       "(258, 5)"
      ]
     },
     "execution_count": 32,
     "metadata": {},
     "output_type": "execute_result"
    }
   ],
   "source": [
    "ratings.find_one()['book_id'],ratings.find_one()['rating']"
   ]
  },
  {
   "cell_type": "code",
   "execution_count": 198,
   "metadata": {},
   "outputs": [],
   "source": [
    "#rating_cursor = ratings.find()\n",
    "rating_cursor = ratings.aggregate([{'$sample':{'size':5}}])                       "
   ]
  },
  {
   "cell_type": "code",
   "execution_count": 199,
   "metadata": {},
   "outputs": [
    {
     "name": "stdout",
     "output_type": "stream",
     "text": [
      "24566 358 5\n",
      "5616 4159 3\n",
      "17753 90 1\n",
      "20522 5934 5\n",
      "28824 86 3\n"
     ]
    }
   ],
   "source": [
    "from collections import defaultdict\n",
    "rating_dict = defaultdict(list)\n",
    "#rating_dict = {}\n",
    "\n",
    "for rating in rating_cursor:\n",
    "    print(rating['user_id'],rating['book_id'], rating['rating'])\n",
    " #   if rating['book_id'] not in rating_dict:\n",
    "  #      rating_dict[str(rating['book_id'])] = rating['rating']\n",
    "  #  else:\n",
    "  #      rating_dict[str(rating['book_id'])].append(rating['rating'])\n",
    "    \n",
    "#    print (type(rating_dict[rating['book_id']]))"
   ]
  },
  {
   "cell_type": "code",
   "execution_count": 170,
   "metadata": {
    "scrolled": true
   },
   "outputs": [
    {
     "name": "stdout",
     "output_type": "stream",
     "text": [
      "Keys:  42 Ratings:  4\n",
      "Keys:  912 Ratings:  5\n",
      "Keys:  221 Ratings:  5\n",
      "Keys:  7723 Ratings:  4\n",
      "Keys:  402 Ratings:  4\n"
     ]
    }
   ],
   "source": [
    "for k, v in rating_dict.items():\n",
    "    print ('Keys: ', k, 'Ratings: ', v)"
   ]
  },
  {
   "cell_type": "code",
   "execution_count": 161,
   "metadata": {},
   "outputs": [],
   "source": [
    "from scipy.sparse import coo_matrix"
   ]
  },
  {
   "cell_type": "code",
   "execution_count": 159,
   "metadata": {},
   "outputs": [],
   "source": [
    "from scipy.sparse.linalg import svds"
   ]
  },
  {
   "cell_type": "code",
   "execution_count": 163,
   "metadata": {},
   "outputs": [],
   "source": [
    "import numpy as np"
   ]
  },
  {
   "cell_type": "code",
   "execution_count": 495,
   "metadata": {},
   "outputs": [],
   "source": [
    "rating_cursor = ratings.find()\n",
    "#rating_cursor = ratings.aggregate([{'$sample':{'size':5}}])   "
   ]
  },
  {
   "cell_type": "code",
   "execution_count": null,
   "metadata": {
    "scrolled": false
   },
   "outputs": [],
   "source": [
    "user_list = np.array([])\n",
    "book_list = np.array([])\n",
    "rating_list = np.array([])\n",
    "\n",
    "for rating in rating_cursor:\n",
    "    user_list = np.append(user_list,(rating['user_id']))\n",
    "    book_list = np.append(book_list,(float(rating['book_id'])))\n",
    "    rating_list = np.append(rating_list,(float(rating['rating'])))"
   ]
  },
  {
   "cell_type": "code",
   "execution_count": 472,
   "metadata": {},
   "outputs": [
    {
     "data": {
      "text/plain": [
       "array([16415., 26362., 37198., 17777., 53252.])"
      ]
     },
     "execution_count": 472,
     "metadata": {},
     "output_type": "execute_result"
    }
   ],
   "source": [
    "user_list"
   ]
  },
  {
   "cell_type": "code",
   "execution_count": 473,
   "metadata": {},
   "outputs": [
    {
     "data": {
      "text/plain": [
       "array([4., 4., 5., 2., 4.])"
      ]
     },
     "execution_count": 473,
     "metadata": {},
     "output_type": "execute_result"
    }
   ],
   "source": [
    "rating_list"
   ]
  },
  {
   "cell_type": "code",
   "execution_count": 474,
   "metadata": {},
   "outputs": [
    {
     "data": {
      "text/plain": [
       "array([16415., 26362., 37198., 17777., 53252.])"
      ]
     },
     "execution_count": 474,
     "metadata": {},
     "output_type": "execute_result"
    }
   ],
   "source": [
    "user_list"
   ]
  },
  {
   "cell_type": "code",
   "execution_count": 475,
   "metadata": {},
   "outputs": [
    {
     "data": {
      "text/plain": [
       "array([ 272.,   73., 2478., 1600., 6907.])"
      ]
     },
     "execution_count": 475,
     "metadata": {},
     "output_type": "execute_result"
    }
   ],
   "source": [
    "book_list"
   ]
  },
  {
   "cell_type": "code",
   "execution_count": 476,
   "metadata": {},
   "outputs": [
    {
     "data": {
      "text/plain": [
       "53252.0"
      ]
     },
     "execution_count": 476,
     "metadata": {},
     "output_type": "execute_result"
    }
   ],
   "source": [
    "user_list.max()"
   ]
  },
  {
   "cell_type": "code",
   "execution_count": 477,
   "metadata": {},
   "outputs": [],
   "source": [
    "mat = coo_matrix((rating_list, (user_list-1, book_list-1)), shape=(int(user_list.max()), int(max(book_list))))"
   ]
  },
  {
   "cell_type": "code",
   "execution_count": 478,
   "metadata": {},
   "outputs": [
    {
     "data": {
      "text/plain": [
       "array([[0., 0., 0., ..., 0., 0., 0.],\n",
       "       [0., 0., 0., ..., 0., 0., 0.],\n",
       "       [0., 0., 0., ..., 0., 0., 0.],\n",
       "       ...,\n",
       "       [0., 0., 0., ..., 0., 0., 0.],\n",
       "       [0., 0., 0., ..., 0., 0., 0.],\n",
       "       [0., 0., 0., ..., 0., 0., 4.]])"
      ]
     },
     "execution_count": 478,
     "metadata": {},
     "output_type": "execute_result"
    }
   ],
   "source": [
    "mat.toarray()"
   ]
  },
  {
   "cell_type": "code",
   "execution_count": 479,
   "metadata": {},
   "outputs": [
    {
     "data": {
      "text/plain": [
       "(53252, 6907)"
      ]
     },
     "execution_count": 479,
     "metadata": {},
     "output_type": "execute_result"
    }
   ],
   "source": [
    "mat.shape"
   ]
  },
  {
   "cell_type": "code",
   "execution_count": 480,
   "metadata": {},
   "outputs": [],
   "source": [
    "U, s, VT = svds(mat,k=100)"
   ]
  },
  {
   "cell_type": "code",
   "execution_count": 481,
   "metadata": {},
   "outputs": [
    {
     "data": {
      "text/plain": [
       "(100, 6907)"
      ]
     },
     "execution_count": 481,
     "metadata": {},
     "output_type": "execute_result"
    }
   ],
   "source": [
    "VT.shape"
   ]
  },
  {
   "cell_type": "code",
   "execution_count": 482,
   "metadata": {},
   "outputs": [
    {
     "data": {
      "text/plain": [
       "(53252, 100)"
      ]
     },
     "execution_count": 482,
     "metadata": {},
     "output_type": "execute_result"
    }
   ],
   "source": [
    "U.shape"
   ]
  },
  {
   "cell_type": "code",
   "execution_count": 483,
   "metadata": {},
   "outputs": [
    {
     "data": {
      "text/plain": [
       "(100,)"
      ]
     },
     "execution_count": 483,
     "metadata": {},
     "output_type": "execute_result"
    }
   ],
   "source": [
    "s.shape"
   ]
  },
  {
   "cell_type": "code",
   "execution_count": 484,
   "metadata": {},
   "outputs": [
    {
     "data": {
      "text/plain": [
       "array([2., 4., 4., 4., 5., 0., 0., 0., 0., 0., 0., 0., 0., 0., 0., 0., 0.,\n",
       "       0., 0., 0., 0., 0., 0., 0., 0., 0., 0., 0., 0., 0., 0., 0., 0., 0.,\n",
       "       0., 0., 0., 0., 0., 0., 0., 0., 0., 0., 0., 0., 0., 0., 0., 0., 0.,\n",
       "       0., 0., 0., 0., 0., 0., 0., 0., 0., 0., 0., 0., 0., 0., 0., 0., 0.,\n",
       "       0., 0., 0., 0., 0., 0., 0., 0., 0., 0., 0., 0., 0., 0., 0., 0., 0.,\n",
       "       0., 0., 0., 0., 0., 0., 0., 0., 0., 0., 0., 0., 0., 0., 0.])"
      ]
     },
     "execution_count": 484,
     "metadata": {},
     "output_type": "execute_result"
    }
   ],
   "source": [
    "s"
   ]
  },
  {
   "cell_type": "code",
   "execution_count": 485,
   "metadata": {},
   "outputs": [
    {
     "data": {
      "text/plain": [
       "6907"
      ]
     },
     "execution_count": 485,
     "metadata": {},
     "output_type": "execute_result"
    }
   ],
   "source": [
    "VT.shape[1]"
   ]
  },
  {
   "cell_type": "markdown",
   "metadata": {},
   "source": [
    "Find Similar Items"
   ]
  },
  {
   "cell_type": "code",
   "execution_count": 486,
   "metadata": {},
   "outputs": [],
   "source": [
    "def find_similar_books(itemID, VT, num_recom):\n",
    "    recs = []\n",
    "    for item in range(VT.T.shape[0]):\n",
    "        if item != itemID:\n",
    "            recs.append([item+1,np.dot(VT.T[itemID-1],VT.T[item])])\n",
    "    final_rec = [(i[0],i[1]) for i in sorted(recs,key=lambda x: x[1],reverse=True)]\n",
    "    return final_rec[:num_recom]"
   ]
  },
  {
   "cell_type": "code",
   "execution_count": 487,
   "metadata": {},
   "outputs": [
    {
     "name": "stdout",
     "output_type": "stream",
     "text": [
      "(1, 0.016035944827905747)\n",
      "(6658, 0.005616350295360898)\n",
      "(37, 0.005546637268570494)\n",
      "(1147, 0.005446302001750676)\n",
      "(852, 0.005281443069964975)\n",
      "(6310, 0.004863842026131715)\n",
      "(1329, 0.004862747290287774)\n",
      "(1298, 0.004802999138335555)\n",
      "(2967, 0.004754692149351942)\n",
      "(6043, 0.004610055241736656)\n",
      "(5936, 0.004582862015159991)\n",
      "(1212, 0.004535096812213384)\n",
      "(2173, 0.004494139138826673)\n",
      "(1328, 0.004458432004053792)\n",
      "(4237, 0.0044544749627672695)\n",
      "(1761, 0.004436051408114306)\n",
      "(388, 0.0043717544657749805)\n",
      "(2743, 0.004342899153924018)\n",
      "(4131, 0.004278793919749392)\n",
      "(3230, 0.004264403297756552)\n"
     ]
    }
   ],
   "source": [
    "book_num = 1\n",
    "num_recom = 20\n",
    "for book in find_similar_books(book_num,VT,num_recom):\n",
    "    print(book)\n",
    "#    print(movies[movies.movieId == str(item[0])].Title,'\\n')"
   ]
  },
  {
   "cell_type": "code",
   "execution_count": 488,
   "metadata": {},
   "outputs": [],
   "source": [
    "def item_similarity(item1,item2):\n",
    "    return np.dot(VT.T[item1],VT.T[item2])"
   ]
  },
  {
   "cell_type": "code",
   "execution_count": 489,
   "metadata": {},
   "outputs": [
    {
     "data": {
      "text/plain": [
       "9.775309546633202e-05"
      ]
     },
     "execution_count": 489,
     "metadata": {},
     "output_type": "execute_result"
    }
   ],
   "source": [
    "item_similarity(2,18)"
   ]
  },
  {
   "cell_type": "markdown",
   "metadata": {},
   "source": [
    "Get Recommendations for Users"
   ]
  },
  {
   "cell_type": "code",
   "execution_count": 490,
   "metadata": {},
   "outputs": [],
   "source": [
    "def get_recommends_for_user(userID, U, VT, num_recom):\n",
    "    recs = []\n",
    "    for item in range(VT.T.shape[0]):\n",
    "        recs.append([item+1,np.dot(U[userID-1],VT.T[item])])\n",
    "    final_rec = [(i[0],i[1]) for i in sorted(recs,key=lambda x: x[1],reverse=True)]\n",
    "    return final_rec[:num_recom]"
   ]
  },
  {
   "cell_type": "code",
   "execution_count": 491,
   "metadata": {},
   "outputs": [
    {
     "name": "stdout",
     "output_type": "stream",
     "text": [
      "(2055, 0.001850468730998939)\n",
      "Actual Rating:  0.0\n",
      "(1973, 0.001805551770540473)\n",
      "Actual Rating:  0.0\n",
      "(4523, 0.0017806898322986027)\n",
      "Actual Rating:  0.0\n",
      "(4352, 0.0017782810948929525)\n",
      "Actual Rating:  0.0\n",
      "(6548, 0.0017764858483967235)\n",
      "Actual Rating:  0.0\n",
      "(2163, 0.0017178366611682412)\n",
      "Actual Rating:  0.0\n",
      "(2017, 0.0016368867893164919)\n",
      "Actual Rating:  0.0\n",
      "(5215, 0.001626888260165753)\n",
      "Actual Rating:  0.0\n",
      "(1635, 0.0015849165675062631)\n",
      "Actual Rating:  0.0\n",
      "(135, 0.0015389047105925536)\n",
      "Actual Rating:  0.0\n",
      "(423, 0.0015297085761235307)\n",
      "Actual Rating:  0.0\n",
      "(3804, 0.0015134545490765009)\n",
      "Actual Rating:  0.0\n",
      "(5417, 0.0015090491912795718)\n",
      "Actual Rating:  0.0\n",
      "(1626, 0.0015040146748406208)\n",
      "Actual Rating:  0.0\n",
      "(4683, 0.0015001699616872008)\n",
      "Actual Rating:  0.0\n",
      "(922, 0.0014973840446697183)\n",
      "Actual Rating:  0.0\n",
      "(3038, 0.001483801029433646)\n",
      "Actual Rating:  0.0\n",
      "(271, 0.0014758026435121947)\n",
      "Actual Rating:  0.0\n",
      "(1352, 0.0014599664027197912)\n",
      "Actual Rating:  0.0\n",
      "(1852, 0.0014558787346929355)\n",
      "Actual Rating:  0.0\n"
     ]
    }
   ],
   "source": [
    "USERID=1\n",
    "num_recom = 20\n",
    "for item in get_recommends_for_user(USERID,U,VT,num_recom):\n",
    "    print(item)\n",
    "    print(\"Actual Rating: \", mat.toarray()[USERID][item[0]])\n",
    "    #print(movies[movies.movieId == str(item[0])].Title,'\\n')"
   ]
  },
  {
   "cell_type": "code",
   "execution_count": 492,
   "metadata": {},
   "outputs": [
    {
     "name": "stdout",
     "output_type": "stream",
     "text": [
      "Scary Stories to Tell in the Dark\n",
      "4.05\n",
      "Corduroy\n",
      "4.28\n",
      "Magyk\n",
      "3.8\n",
      "ふしぎ遊戯 1\n",
      "4.08\n",
      "The Mating\n",
      "4.02\n",
      "Manuscrito encontrado em Accra\n",
      "3.8\n",
      "Beyond the Highland Mist\n",
      "3.99\n",
      "Pawn of Prophecy\n",
      "4.16\n",
      "Wings\n",
      "3.75\n",
      "The Impossible Knife of Memory\n",
      "3.93\n",
      "Under the Banner of Heaven: A Story of Violent Faith\n",
      "3.98\n",
      "Mrs. Frisby and the Rats of NIMH\n",
      "4.13\n",
      "Du contrat social: ou Principes du droit politique\n",
      "3.75\n",
      "Club Dead\n",
      "4.03\n",
      "ビューティーポップ 1 [Byūtī poppu 1]\n",
      "4.15\n",
      "An Illustrated Life: Drawing Inspiration From The Private Sketchbooks Of Artists, Illustrators And Designers\n",
      "3.72\n",
      "NARUTO -ナルト- 巻ノ四十三\n",
      "4.57\n",
      "To Tame a Highland Warrior\n",
      "4.14\n",
      "Chosen Prey\n",
      "4.23\n",
      "Bring Up the Bodies\n",
      "4.26\n"
     ]
    }
   ],
   "source": [
    "USERID=73\n",
    "num_recom = 20\n",
    "for item in get_recommends_for_user(USERID,U,VT,num_recom):\n",
    "    #print(item[0])\n",
    "    find_book_title(item[0])\n",
    "    find_book_rating(item[0])"
   ]
  },
  {
   "cell_type": "code",
   "execution_count": 493,
   "metadata": {},
   "outputs": [
    {
     "name": "stdout",
     "output_type": "stream",
     "text": [
      "Lady Chatterley's Lover\n"
     ]
    }
   ],
   "source": [
    "find_book_title(1681)"
   ]
  },
  {
   "cell_type": "code",
   "execution_count": 494,
   "metadata": {},
   "outputs": [
    {
     "name": "stdout",
     "output_type": "stream",
     "text": [
      "3.49\n"
     ]
    }
   ],
   "source": [
    "find_book_rating(1681)"
   ]
  },
  {
   "cell_type": "code",
   "execution_count": null,
   "metadata": {},
   "outputs": [],
   "source": []
  },
  {
   "cell_type": "code",
   "execution_count": null,
   "metadata": {},
   "outputs": [],
   "source": []
  },
  {
   "cell_type": "code",
   "execution_count": null,
   "metadata": {},
   "outputs": [],
   "source": []
  },
  {
   "cell_type": "code",
   "execution_count": null,
   "metadata": {},
   "outputs": [],
   "source": []
  }
 ],
 "metadata": {
  "kernelspec": {
   "display_name": "Python 3",
   "language": "python",
   "name": "python3"
  },
  "language_info": {
   "codemirror_mode": {
    "name": "ipython",
    "version": 3
   },
   "file_extension": ".py",
   "mimetype": "text/x-python",
   "name": "python",
   "nbconvert_exporter": "python",
   "pygments_lexer": "ipython3",
   "version": "3.6.5"
  }
 },
 "nbformat": 4,
 "nbformat_minor": 2
}
