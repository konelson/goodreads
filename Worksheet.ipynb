{
 "cells": [
  {
   "cell_type": "code",
   "execution_count": 1,
   "metadata": {},
   "outputs": [
    {
     "data": {
      "text/plain": [
       "'/Users/kelly/metis_v3/Project_5'"
      ]
     },
     "execution_count": 1,
     "metadata": {},
     "output_type": "execute_result"
    }
   ],
   "source": [
    "pwd"
   ]
  },
  {
   "cell_type": "code",
   "execution_count": 14,
   "metadata": {},
   "outputs": [],
   "source": [
    "import pprint"
   ]
  },
  {
   "cell_type": "code",
   "execution_count": 155,
   "metadata": {},
   "outputs": [],
   "source": [
    "import nltk\n",
    "from nltk.corpus import stopwords\n",
    "import gensim"
   ]
  },
  {
   "cell_type": "code",
   "execution_count": 2,
   "metadata": {},
   "outputs": [],
   "source": [
    "from pymongo import MongoClient\n",
    "client = MongoClient()\n",
    "db = client.goodreads"
   ]
  },
  {
   "cell_type": "code",
   "execution_count": 3,
   "metadata": {},
   "outputs": [
    {
     "data": {
      "text/plain": [
       "10000"
      ]
     },
     "execution_count": 3,
     "metadata": {},
     "output_type": "execute_result"
    }
   ],
   "source": [
    "db.books.count()"
   ]
  },
  {
   "cell_type": "code",
   "execution_count": 4,
   "metadata": {},
   "outputs": [
    {
     "data": {
      "text/plain": [
       "5976479"
      ]
     },
     "execution_count": 4,
     "metadata": {},
     "output_type": "execute_result"
    }
   ],
   "source": [
    "db.ratings.count()"
   ]
  },
  {
   "cell_type": "code",
   "execution_count": 25,
   "metadata": {},
   "outputs": [
    {
     "data": {
      "text/plain": [
       "{'_id': ObjectId('5b8885c921c3f05eea553c1d'),\n",
       " 'goodreads_book_id': 1,\n",
       " 'tag_id': 30574,\n",
       " 'count': 167697}"
      ]
     },
     "execution_count": 25,
     "metadata": {},
     "output_type": "execute_result"
    }
   ],
   "source": [
    "db.booktags.find_one()"
   ]
  },
  {
   "cell_type": "code",
   "execution_count": 6,
   "metadata": {},
   "outputs": [
    {
     "data": {
      "text/plain": [
       "34252"
      ]
     },
     "execution_count": 6,
     "metadata": {},
     "output_type": "execute_result"
    }
   ],
   "source": [
    "db.tags.count()"
   ]
  },
  {
   "cell_type": "code",
   "execution_count": 7,
   "metadata": {},
   "outputs": [
    {
     "data": {
      "text/plain": [
       "{'_id': ObjectId('5b88855b21c3f05eeaf945eb'),\n",
       " 'book_id': 1,\n",
       " 'goodreads_book_id': 2767052,\n",
       " 'best_book_id': 2767052,\n",
       " 'work_id': 2792775,\n",
       " 'books_count': 272,\n",
       " 'isbn': 439023483,\n",
       " 'isbn13': 9780439023480.0,\n",
       " 'authors': 'Suzanne Collins',\n",
       " 'original_publication_year': 2008.0,\n",
       " 'original_title': 'The Hunger Games',\n",
       " 'title': 'The Hunger Games (The Hunger Games, #1)',\n",
       " 'language_code': 'eng',\n",
       " 'average_rating': 4.34,\n",
       " 'ratings_count': 4780653,\n",
       " 'work_ratings_count': 4942365,\n",
       " 'work_text_reviews_count': 155254,\n",
       " 'ratings_1': 66715,\n",
       " 'ratings_2': 127936,\n",
       " 'ratings_3': 560092,\n",
       " 'ratings_4': 1481305,\n",
       " 'ratings_5': 2706317,\n",
       " 'image_url': 'https://images.gr-assets.com/books/1447303603m/2767052.jpg',\n",
       " 'small_image_url': 'https://images.gr-assets.com/books/1447303603s/2767052.jpg'}"
      ]
     },
     "execution_count": 7,
     "metadata": {},
     "output_type": "execute_result"
    }
   ],
   "source": [
    "db.books.find_one()"
   ]
  },
  {
   "cell_type": "code",
   "execution_count": 45,
   "metadata": {},
   "outputs": [
    {
     "ename": "SyntaxError",
     "evalue": "invalid syntax (<ipython-input-45-863cec9a7d59>, line 5)",
     "output_type": "error",
     "traceback": [
      "\u001b[0;36m  File \u001b[0;32m\"<ipython-input-45-863cec9a7d59>\"\u001b[0;36m, line \u001b[0;32m5\u001b[0m\n\u001b[0;31m    }]):\u001b[0m\n\u001b[0m    ^\u001b[0m\n\u001b[0;31mSyntaxError\u001b[0m\u001b[0;31m:\u001b[0m invalid syntax\n"
     ]
    }
   ],
   "source": [
    "for book in db.booktags.aggregate([{'$sample':{'size':5},\n",
    "                                    {'$group':{'goodreads_book_id':'id'}      \n",
    "                                           \n",
    "                                    }                                   \n",
    "                                   }]):\n",
    "\n",
    "    print (book)"
   ]
  },
  {
   "cell_type": "code",
   "execution_count": 47,
   "metadata": {},
   "outputs": [
    {
     "ename": "OperationFailure",
     "evalue": "The field 'goodreads_book_id' must be an accumulator object",
     "output_type": "error",
     "traceback": [
      "\u001b[0;31m---------------------------------------------------------------------------\u001b[0m",
      "\u001b[0;31mOperationFailure\u001b[0m                          Traceback (most recent call last)",
      "\u001b[0;32m<ipython-input-47-3ccd8fb02acc>\u001b[0m in \u001b[0;36m<module>\u001b[0;34m()\u001b[0m\n\u001b[1;32m      1\u001b[0m for book in db.booktags.aggregate([{'$sample':{'size':5}},\n\u001b[1;32m      2\u001b[0m                     \u001b[0;34m{\u001b[0m\u001b[0;34m'$group'\u001b[0m\u001b[0;34m:\u001b[0m \u001b[0;34m{\u001b[0m\u001b[0;34m'goodreads_book_id'\u001b[0m \u001b[0;34m:\u001b[0m \u001b[0;34m'id'\u001b[0m \u001b[0;34m}\u001b[0m \u001b[0;34m}\u001b[0m\u001b[0;34m,\u001b[0m\u001b[0;34m\u001b[0m\u001b[0m\n\u001b[0;32m----> 3\u001b[0;31m                     \u001b[0;34m{\u001b[0m\u001b[0;34m'$project'\u001b[0m\u001b[0;34m:\u001b[0m\u001b[0;34m{\u001b[0m\u001b[0;34m'_id'\u001b[0m\u001b[0;34m:\u001b[0m\u001b[0;36m0\u001b[0m\u001b[0;34m,\u001b[0m\u001b[0;34m'Book ID'\u001b[0m\u001b[0;34m:\u001b[0m\u001b[0;34m'$book_id'\u001b[0m\u001b[0;34m,\u001b[0m\u001b[0;34m'Title'\u001b[0m\u001b[0;34m:\u001b[0m\u001b[0;34m'$original_title'\u001b[0m\u001b[0;34m}\u001b[0m\u001b[0;34m}\u001b[0m\u001b[0;34m\u001b[0m\u001b[0m\n\u001b[0m\u001b[1;32m      4\u001b[0m                    ]):\n\u001b[1;32m      5\u001b[0m         \u001b[0mpprint\u001b[0m\u001b[0;34m.\u001b[0m\u001b[0mpprint\u001b[0m\u001b[0;34m(\u001b[0m\u001b[0mbook\u001b[0m\u001b[0;34m)\u001b[0m\u001b[0;34m\u001b[0m\u001b[0m\n",
      "\u001b[0;32m/anaconda3/lib/python3.6/site-packages/pymongo/collection.py\u001b[0m in \u001b[0;36maggregate\u001b[0;34m(self, pipeline, session, **kwargs)\u001b[0m\n\u001b[1;32m   2183\u001b[0m                                    \u001b[0msession\u001b[0m\u001b[0;34m=\u001b[0m\u001b[0ms\u001b[0m\u001b[0;34m,\u001b[0m\u001b[0;34m\u001b[0m\u001b[0m\n\u001b[1;32m   2184\u001b[0m                                    \u001b[0mexplicit_session\u001b[0m\u001b[0;34m=\u001b[0m\u001b[0msession\u001b[0m \u001b[0;32mis\u001b[0m \u001b[0;32mnot\u001b[0m \u001b[0;32mNone\u001b[0m\u001b[0;34m,\u001b[0m\u001b[0;34m\u001b[0m\u001b[0m\n\u001b[0;32m-> 2185\u001b[0;31m                                    **kwargs)\n\u001b[0m\u001b[1;32m   2186\u001b[0m \u001b[0;34m\u001b[0m\u001b[0m\n\u001b[1;32m   2187\u001b[0m     \u001b[0;32mdef\u001b[0m \u001b[0maggregate_raw_batches\u001b[0m\u001b[0;34m(\u001b[0m\u001b[0mself\u001b[0m\u001b[0;34m,\u001b[0m \u001b[0mpipeline\u001b[0m\u001b[0;34m,\u001b[0m \u001b[0;34m**\u001b[0m\u001b[0mkwargs\u001b[0m\u001b[0;34m)\u001b[0m\u001b[0;34m:\u001b[0m\u001b[0;34m\u001b[0m\u001b[0m\n",
      "\u001b[0;32m/anaconda3/lib/python3.6/site-packages/pymongo/collection.py\u001b[0m in \u001b[0;36m_aggregate\u001b[0;34m(self, pipeline, cursor_class, first_batch_size, session, explicit_session, **kwargs)\u001b[0m\n\u001b[1;32m   2090\u001b[0m                 \u001b[0mcollation\u001b[0m\u001b[0;34m=\u001b[0m\u001b[0mcollation\u001b[0m\u001b[0;34m,\u001b[0m\u001b[0;34m\u001b[0m\u001b[0m\n\u001b[1;32m   2091\u001b[0m                 \u001b[0msession\u001b[0m\u001b[0;34m=\u001b[0m\u001b[0msession\u001b[0m\u001b[0;34m,\u001b[0m\u001b[0;34m\u001b[0m\u001b[0m\n\u001b[0;32m-> 2092\u001b[0;31m                 client=self.__database.client)\n\u001b[0m\u001b[1;32m   2093\u001b[0m \u001b[0;34m\u001b[0m\u001b[0m\n\u001b[1;32m   2094\u001b[0m             \u001b[0;32mif\u001b[0m \u001b[0;34m\"cursor\"\u001b[0m \u001b[0;32min\u001b[0m \u001b[0mresult\u001b[0m\u001b[0;34m:\u001b[0m\u001b[0;34m\u001b[0m\u001b[0m\n",
      "\u001b[0;32m/anaconda3/lib/python3.6/site-packages/pymongo/pool.py\u001b[0m in \u001b[0;36mcommand\u001b[0;34m(self, dbname, spec, slave_ok, read_preference, codec_options, check, allowable_errors, check_keys, read_concern, write_concern, parse_write_concern_error, collation, session, client, retryable_write, publish_events)\u001b[0m\n\u001b[1;32m    515\u001b[0m                            \u001b[0mself\u001b[0m\u001b[0;34m.\u001b[0m\u001b[0mmax_bson_size\u001b[0m\u001b[0;34m,\u001b[0m \u001b[0mread_concern\u001b[0m\u001b[0;34m,\u001b[0m\u001b[0;34m\u001b[0m\u001b[0m\n\u001b[1;32m    516\u001b[0m                            \u001b[0mparse_write_concern_error\u001b[0m\u001b[0;34m=\u001b[0m\u001b[0mparse_write_concern_error\u001b[0m\u001b[0;34m,\u001b[0m\u001b[0;34m\u001b[0m\u001b[0m\n\u001b[0;32m--> 517\u001b[0;31m                            collation=collation)\n\u001b[0m\u001b[1;32m    518\u001b[0m         \u001b[0;32mexcept\u001b[0m \u001b[0mOperationFailure\u001b[0m\u001b[0;34m:\u001b[0m\u001b[0;34m\u001b[0m\u001b[0m\n\u001b[1;32m    519\u001b[0m             \u001b[0;32mraise\u001b[0m\u001b[0;34m\u001b[0m\u001b[0m\n",
      "\u001b[0;32m/anaconda3/lib/python3.6/site-packages/pymongo/network.py\u001b[0m in \u001b[0;36mcommand\u001b[0;34m(sock, dbname, spec, slave_ok, is_mongos, read_preference, codec_options, session, client, check, allowable_errors, address, check_keys, listeners, max_bson_size, read_concern, parse_write_concern_error, collation)\u001b[0m\n\u001b[1;32m    123\u001b[0m             helpers._check_command_response(\n\u001b[1;32m    124\u001b[0m                 \u001b[0mresponse_doc\u001b[0m\u001b[0;34m,\u001b[0m \u001b[0;32mNone\u001b[0m\u001b[0;34m,\u001b[0m \u001b[0mallowable_errors\u001b[0m\u001b[0;34m,\u001b[0m\u001b[0;34m\u001b[0m\u001b[0m\n\u001b[0;32m--> 125\u001b[0;31m                 parse_write_concern_error=parse_write_concern_error)\n\u001b[0m\u001b[1;32m    126\u001b[0m     \u001b[0;32mexcept\u001b[0m \u001b[0mException\u001b[0m \u001b[0;32mas\u001b[0m \u001b[0mexc\u001b[0m\u001b[0;34m:\u001b[0m\u001b[0;34m\u001b[0m\u001b[0m\n\u001b[1;32m    127\u001b[0m         \u001b[0;32mif\u001b[0m \u001b[0mpublish\u001b[0m\u001b[0;34m:\u001b[0m\u001b[0;34m\u001b[0m\u001b[0m\n",
      "\u001b[0;32m/anaconda3/lib/python3.6/site-packages/pymongo/helpers.py\u001b[0m in \u001b[0;36m_check_command_response\u001b[0;34m(response, msg, allowable_errors, parse_write_concern_error)\u001b[0m\n\u001b[1;32m    143\u001b[0m \u001b[0;34m\u001b[0m\u001b[0m\n\u001b[1;32m    144\u001b[0m             \u001b[0mmsg\u001b[0m \u001b[0;34m=\u001b[0m \u001b[0mmsg\u001b[0m \u001b[0;32mor\u001b[0m \u001b[0;34m\"%s\"\u001b[0m\u001b[0;34m\u001b[0m\u001b[0m\n\u001b[0;32m--> 145\u001b[0;31m             \u001b[0;32mraise\u001b[0m \u001b[0mOperationFailure\u001b[0m\u001b[0;34m(\u001b[0m\u001b[0mmsg\u001b[0m \u001b[0;34m%\u001b[0m \u001b[0merrmsg\u001b[0m\u001b[0;34m,\u001b[0m \u001b[0mcode\u001b[0m\u001b[0;34m,\u001b[0m \u001b[0mresponse\u001b[0m\u001b[0;34m)\u001b[0m\u001b[0;34m\u001b[0m\u001b[0m\n\u001b[0m\u001b[1;32m    146\u001b[0m \u001b[0;34m\u001b[0m\u001b[0m\n\u001b[1;32m    147\u001b[0m \u001b[0;34m\u001b[0m\u001b[0m\n",
      "\u001b[0;31mOperationFailure\u001b[0m: The field 'goodreads_book_id' must be an accumulator object"
     ]
    }
   ],
   "source": [
    "for book in db.booktags.aggregate([{'$sample':{'size':5}},\n",
    "                    {'$group': {'goodreads_book_id' : 'id' } }, \n",
    "                    {'$project':{'_id':0,'Book ID':'$book_id','Title':'$original_title'}}\n",
    "                   ]):\n",
    "        pprint.pprint(book)"
   ]
  },
  {
   "cell_type": "code",
   "execution_count": null,
   "metadata": {},
   "outputs": [],
   "source": [
    "def find_booktags(ID):\n",
    "    booktag_list = []          \n",
    "    for book in db.booktags.find({'goodreads_book_id':ID}):\n",
    "        tagid = (book['tag_id'])\n",
    "        for tag in db.tags.find({'tag_id':tagid}):\n",
    "            booktag_list.append(tag['tag_name'].split('-'))\n",
    "    return(booktag_list)"
   ]
  },
  {
   "cell_type": "code",
   "execution_count": 80,
   "metadata": {},
   "outputs": [],
   "source": [
    "for book in db.books.aggregate([{'$sample':{'size':5}},{\n",
    "    '$lookup': {\n",
    "        'from': 'booktags',\n",
    "        'localField': 'goodreads_book_id',\n",
    "        'foreignField': 'goodreads_book_id',\n",
    "        'as': 'tag_id'\n",
    "    }\n",
    "}, {\n",
    "    \n",
    "    '$unwind': '$booktags'  \n",
    "}, {\n",
    "    '$project': {\n",
    "        'goodreads_book_id': '$books.goodreads_book_id',\n",
    "        'tag_num': '$booktags.tag_id'\n",
    "    }\n",
    "}\n",
    "]):\n",
    "        pprint.pprint(book)"
   ]
  },
  {
   "cell_type": "code",
   "execution_count": 105,
   "metadata": {},
   "outputs": [
    {
     "ename": "OperationFailure",
     "evalue": "The field 'goodreads_book_id' must be an accumulator object",
     "output_type": "error",
     "traceback": [
      "\u001b[0;31m---------------------------------------------------------------------------\u001b[0m",
      "\u001b[0;31mOperationFailure\u001b[0m                          Traceback (most recent call last)",
      "\u001b[0;32m<ipython-input-105-074d24e6220f>\u001b[0m in \u001b[0;36m<module>\u001b[0;34m()\u001b[0m\n\u001b[1;32m      7\u001b[0m     '$project': {\n\u001b[1;32m      8\u001b[0m         \u001b[0;34m'goodreads_book_id'\u001b[0m\u001b[0;34m:\u001b[0m \u001b[0;34m'$booktags.goodreads_book_id'\u001b[0m\u001b[0;34m,\u001b[0m\u001b[0;34m\u001b[0m\u001b[0m\n\u001b[0;32m----> 9\u001b[0;31m         \u001b[0;34m'tag_id'\u001b[0m\u001b[0;34m:\u001b[0m \u001b[0;34m'$booktags.tag_id'\u001b[0m\u001b[0;34m\u001b[0m\u001b[0m\n\u001b[0m\u001b[1;32m     10\u001b[0m     }\n\u001b[1;32m     11\u001b[0m         }\n",
      "\u001b[0;32m/anaconda3/lib/python3.6/site-packages/pymongo/collection.py\u001b[0m in \u001b[0;36maggregate\u001b[0;34m(self, pipeline, session, **kwargs)\u001b[0m\n\u001b[1;32m   2183\u001b[0m                                    \u001b[0msession\u001b[0m\u001b[0;34m=\u001b[0m\u001b[0ms\u001b[0m\u001b[0;34m,\u001b[0m\u001b[0;34m\u001b[0m\u001b[0m\n\u001b[1;32m   2184\u001b[0m                                    \u001b[0mexplicit_session\u001b[0m\u001b[0;34m=\u001b[0m\u001b[0msession\u001b[0m \u001b[0;32mis\u001b[0m \u001b[0;32mnot\u001b[0m \u001b[0;32mNone\u001b[0m\u001b[0;34m,\u001b[0m\u001b[0;34m\u001b[0m\u001b[0m\n\u001b[0;32m-> 2185\u001b[0;31m                                    **kwargs)\n\u001b[0m\u001b[1;32m   2186\u001b[0m \u001b[0;34m\u001b[0m\u001b[0m\n\u001b[1;32m   2187\u001b[0m     \u001b[0;32mdef\u001b[0m \u001b[0maggregate_raw_batches\u001b[0m\u001b[0;34m(\u001b[0m\u001b[0mself\u001b[0m\u001b[0;34m,\u001b[0m \u001b[0mpipeline\u001b[0m\u001b[0;34m,\u001b[0m \u001b[0;34m**\u001b[0m\u001b[0mkwargs\u001b[0m\u001b[0;34m)\u001b[0m\u001b[0;34m:\u001b[0m\u001b[0;34m\u001b[0m\u001b[0m\n",
      "\u001b[0;32m/anaconda3/lib/python3.6/site-packages/pymongo/collection.py\u001b[0m in \u001b[0;36m_aggregate\u001b[0;34m(self, pipeline, cursor_class, first_batch_size, session, explicit_session, **kwargs)\u001b[0m\n\u001b[1;32m   2090\u001b[0m                 \u001b[0mcollation\u001b[0m\u001b[0;34m=\u001b[0m\u001b[0mcollation\u001b[0m\u001b[0;34m,\u001b[0m\u001b[0;34m\u001b[0m\u001b[0m\n\u001b[1;32m   2091\u001b[0m                 \u001b[0msession\u001b[0m\u001b[0;34m=\u001b[0m\u001b[0msession\u001b[0m\u001b[0;34m,\u001b[0m\u001b[0;34m\u001b[0m\u001b[0m\n\u001b[0;32m-> 2092\u001b[0;31m                 client=self.__database.client)\n\u001b[0m\u001b[1;32m   2093\u001b[0m \u001b[0;34m\u001b[0m\u001b[0m\n\u001b[1;32m   2094\u001b[0m             \u001b[0;32mif\u001b[0m \u001b[0;34m\"cursor\"\u001b[0m \u001b[0;32min\u001b[0m \u001b[0mresult\u001b[0m\u001b[0;34m:\u001b[0m\u001b[0;34m\u001b[0m\u001b[0m\n",
      "\u001b[0;32m/anaconda3/lib/python3.6/site-packages/pymongo/pool.py\u001b[0m in \u001b[0;36mcommand\u001b[0;34m(self, dbname, spec, slave_ok, read_preference, codec_options, check, allowable_errors, check_keys, read_concern, write_concern, parse_write_concern_error, collation, session, client, retryable_write, publish_events)\u001b[0m\n\u001b[1;32m    515\u001b[0m                            \u001b[0mself\u001b[0m\u001b[0;34m.\u001b[0m\u001b[0mmax_bson_size\u001b[0m\u001b[0;34m,\u001b[0m \u001b[0mread_concern\u001b[0m\u001b[0;34m,\u001b[0m\u001b[0;34m\u001b[0m\u001b[0m\n\u001b[1;32m    516\u001b[0m                            \u001b[0mparse_write_concern_error\u001b[0m\u001b[0;34m=\u001b[0m\u001b[0mparse_write_concern_error\u001b[0m\u001b[0;34m,\u001b[0m\u001b[0;34m\u001b[0m\u001b[0m\n\u001b[0;32m--> 517\u001b[0;31m                            collation=collation)\n\u001b[0m\u001b[1;32m    518\u001b[0m         \u001b[0;32mexcept\u001b[0m \u001b[0mOperationFailure\u001b[0m\u001b[0;34m:\u001b[0m\u001b[0;34m\u001b[0m\u001b[0m\n\u001b[1;32m    519\u001b[0m             \u001b[0;32mraise\u001b[0m\u001b[0;34m\u001b[0m\u001b[0m\n",
      "\u001b[0;32m/anaconda3/lib/python3.6/site-packages/pymongo/network.py\u001b[0m in \u001b[0;36mcommand\u001b[0;34m(sock, dbname, spec, slave_ok, is_mongos, read_preference, codec_options, session, client, check, allowable_errors, address, check_keys, listeners, max_bson_size, read_concern, parse_write_concern_error, collation)\u001b[0m\n\u001b[1;32m    123\u001b[0m             helpers._check_command_response(\n\u001b[1;32m    124\u001b[0m                 \u001b[0mresponse_doc\u001b[0m\u001b[0;34m,\u001b[0m \u001b[0;32mNone\u001b[0m\u001b[0;34m,\u001b[0m \u001b[0mallowable_errors\u001b[0m\u001b[0;34m,\u001b[0m\u001b[0;34m\u001b[0m\u001b[0m\n\u001b[0;32m--> 125\u001b[0;31m                 parse_write_concern_error=parse_write_concern_error)\n\u001b[0m\u001b[1;32m    126\u001b[0m     \u001b[0;32mexcept\u001b[0m \u001b[0mException\u001b[0m \u001b[0;32mas\u001b[0m \u001b[0mexc\u001b[0m\u001b[0;34m:\u001b[0m\u001b[0;34m\u001b[0m\u001b[0m\n\u001b[1;32m    127\u001b[0m         \u001b[0;32mif\u001b[0m \u001b[0mpublish\u001b[0m\u001b[0;34m:\u001b[0m\u001b[0;34m\u001b[0m\u001b[0m\n",
      "\u001b[0;32m/anaconda3/lib/python3.6/site-packages/pymongo/helpers.py\u001b[0m in \u001b[0;36m_check_command_response\u001b[0;34m(response, msg, allowable_errors, parse_write_concern_error)\u001b[0m\n\u001b[1;32m    143\u001b[0m \u001b[0;34m\u001b[0m\u001b[0m\n\u001b[1;32m    144\u001b[0m             \u001b[0mmsg\u001b[0m \u001b[0;34m=\u001b[0m \u001b[0mmsg\u001b[0m \u001b[0;32mor\u001b[0m \u001b[0;34m\"%s\"\u001b[0m\u001b[0;34m\u001b[0m\u001b[0m\n\u001b[0;32m--> 145\u001b[0;31m             \u001b[0;32mraise\u001b[0m \u001b[0mOperationFailure\u001b[0m\u001b[0;34m(\u001b[0m\u001b[0mmsg\u001b[0m \u001b[0;34m%\u001b[0m \u001b[0merrmsg\u001b[0m\u001b[0;34m,\u001b[0m \u001b[0mcode\u001b[0m\u001b[0;34m,\u001b[0m \u001b[0mresponse\u001b[0m\u001b[0;34m)\u001b[0m\u001b[0;34m\u001b[0m\u001b[0m\n\u001b[0m\u001b[1;32m    146\u001b[0m \u001b[0;34m\u001b[0m\u001b[0m\n\u001b[1;32m    147\u001b[0m \u001b[0;34m\u001b[0m\u001b[0m\n",
      "\u001b[0;31mOperationFailure\u001b[0m: The field 'goodreads_book_id' must be an accumulator object"
     ]
    }
   ],
   "source": [
    "for book in db.booktags.aggregate([{'$sample':{'size':2}},\n",
    "    {\n",
    "        '$group': {\n",
    "        'goodreads_book_id': '$goodreads_book_id',\n",
    "     },\n",
    "    }, {\n",
    "    '$project': {\n",
    "        'goodreads_book_id': '$booktags.goodreads_book_id',\n",
    "        'tag_id': '$booktags.tag_id'\n",
    "    }\n",
    "        }\n",
    "]):\n",
    "    pprint.pprint(book)"
   ]
  },
  {
   "cell_type": "code",
   "execution_count": 99,
   "metadata": {},
   "outputs": [
    {
     "name": "stdout",
     "output_type": "stream",
     "text": [
      "{'_id': ObjectId('5b88855b21c3f05eeaf94c53')}\n",
      "{'_id': ObjectId('5b88855b21c3f05eeaf950af')}\n",
      "{'_id': ObjectId('5b88855c21c3f05eeaf96c6a')}\n",
      "{'_id': ObjectId('5b88855b21c3f05eeaf94b82')}\n",
      "{'_id': ObjectId('5b88855b21c3f05eeaf9504b')}\n"
     ]
    }
   ],
   "source": [
    "for book in db.books.aggregate([{'$sample':{'size':5}},\n",
    "    {\n",
    "        '$lookup': {\n",
    "        'from': 'booktags',\n",
    "        'localField': 'bookreads_book_id',\n",
    "        'foreignField': 'tag_id',\n",
    "        'as': 'monkey',\n",
    "    }, \n",
    "    }, {\n",
    "    '$project': {\n",
    "        'goodreads_book_id': '$booktags.goodreads_book_id',\n",
    "        'tag_num': '$booktags.tag_id'\n",
    "    }    \n",
    "}\n",
    "]):\n",
    "                                pprint.pprint(book)"
   ]
  },
  {
   "cell_type": "code",
   "execution_count": null,
   "metadata": {},
   "outputs": [],
   "source": [
    "db.votes.aggregate([{\n",
    "    $lookup: {\n",
    "        from: \"users\",\n",
    "        localField: \"createdBy\",\n",
    "        foreignField: \"_id\",\n",
    "        as: \"user\"\n",
    "    }\n",
    "}, {\n",
    "    $unwind: \"$user\"\n",
    "}, {\n",
    "    $unwind: \"$user.emails\"\n",
    "}, {\n",
    "    $sort: { \"user.emails.verified\": -1 }\n",
    "}, {\n",
    "    $group: {\n",
    "        _id: \"$_id\",\n",
    "        createdBy: { $first: \"$createdBy\" },\n",
    "        fellowId: { $first: \"$fellowId\" },\n",
    "        companyId: { $first: \"$companyId\" },\n",
    "        teamId: { $first: \"$teamId\" },\n",
    "        user: { $first: \"$user\" }\n",
    "    }\n",
    "}, {"
   ]
  },
  {
   "cell_type": "code",
   "execution_count": 72,
   "metadata": {},
   "outputs": [],
   "source": [
    "def find_booktags(ID):\n",
    "    booktag_list = []          \n",
    "    for book in db.booktags.find({'goodreads_book_id':ID}):\n",
    "        tagid = (book['tag_id'])\n",
    "        for tag in db.tags.find({'tag_id':tagid}):\n",
    "            booktag_list.append(tag['tag_name'].split('-'))\n",
    "    return(booktag_list)"
   ]
  },
  {
   "cell_type": "code",
   "execution_count": null,
   "metadata": {},
   "outputs": [],
   "source": [
    "for book in db.books.aggregate([{'$sample':{'size':5}},{\n",
    "    '$lookup': {\n",
    "        'from': 'booktags',\n",
    "        'localField': 'goodreads_book_id',\n",
    "        'foreignField': 'goodreads_book_id',\n",
    "        'as': 'booktags'\n",
    "    }\n",
    "}, {\n",
    "    '$unwind': '$booktags'\n",
    "}, {\n",
    "    '$project': {\n",
    "        '$group': {\n",
    "            'goodreads_book_id':'$_id',\n",
    "            'tag_id':'tag_num'\n",
    "    }   \n",
    "        'goodreads_book_id': '$goodreads_book_id',\n",
    "        'tag_num': '$booktags.tag_num'\n",
    "    }\n",
    "}\n",
    "]):\n",
    "        pprint.pprint(book)"
   ]
  },
  {
   "cell_type": "code",
   "execution_count": null,
   "metadata": {},
   "outputs": [],
   "source": [
    "for doc in db.news.find():\n",
    "    cc = cleaning(doc['content'])\n",
    "    db.news.update({'_id':doc['_id']}, {'$set':{'cleaned_content1':cc}})"
   ]
  },
  {
   "cell_type": "code",
   "execution_count": 49,
   "metadata": {},
   "outputs": [
    {
     "ename": "TypeError",
     "evalue": "string indices must be integers",
     "output_type": "error",
     "traceback": [
      "\u001b[0;31m---------------------------------------------------------------------------\u001b[0m",
      "\u001b[0;31mTypeError\u001b[0m                                 Traceback (most recent call last)",
      "\u001b[0;32m<ipython-input-49-5d8420359f60>\u001b[0m in \u001b[0;36m<module>\u001b[0;34m()\u001b[0m\n\u001b[1;32m      1\u001b[0m \u001b[0;32mfor\u001b[0m \u001b[0mbook\u001b[0m \u001b[0;32min\u001b[0m \u001b[0mdb\u001b[0m\u001b[0;34m.\u001b[0m\u001b[0mbooks\u001b[0m\u001b[0;34m.\u001b[0m\u001b[0mfind_one\u001b[0m\u001b[0;34m(\u001b[0m\u001b[0;34m)\u001b[0m\u001b[0;34m:\u001b[0m\u001b[0;34m\u001b[0m\u001b[0m\n\u001b[0;32m----> 2\u001b[0;31m     \u001b[0mprint\u001b[0m\u001b[0;34m(\u001b[0m\u001b[0mbook\u001b[0m\u001b[0;34m[\u001b[0m\u001b[0;34m'goodreads_book_id'\u001b[0m\u001b[0;34m]\u001b[0m\u001b[0;34m)\u001b[0m\u001b[0;34m\u001b[0m\u001b[0m\n\u001b[0m\u001b[1;32m      3\u001b[0m     \u001b[0;31m#for book_id in book['goodreads_book_id']:\u001b[0m\u001b[0;34m\u001b[0m\u001b[0;34m\u001b[0m\u001b[0m\n\u001b[1;32m      4\u001b[0m      \u001b[0;31m#   db.booktags.find_one()\u001b[0m\u001b[0;34m\u001b[0m\u001b[0;34m\u001b[0m\u001b[0m\n",
      "\u001b[0;31mTypeError\u001b[0m: string indices must be integers"
     ]
    }
   ],
   "source": [
    "for book in db.books.find_one():\n",
    "    print(book['goodreads_book_id'])\n",
    "    #for book_id in book['goodreads_book_id']:\n",
    "     #   db.booktags.find_one()"
   ]
  },
  {
   "cell_type": "code",
   "execution_count": 54,
   "metadata": {},
   "outputs": [
    {
     "data": {
      "text/plain": [
       "2767052"
      ]
     },
     "execution_count": 54,
     "metadata": {},
     "output_type": "execute_result"
    }
   ],
   "source": [
    "db.books.find_one()['goodreads_book_id']"
   ]
  },
  {
   "cell_type": "code",
   "execution_count": 55,
   "metadata": {},
   "outputs": [
    {
     "data": {
      "text/plain": [
       "{'_id': ObjectId('5b8885c921c3f05eea553c1d'),\n",
       " 'goodreads_book_id': 1,\n",
       " 'tag_id': 30574,\n",
       " 'count': 167697}"
      ]
     },
     "execution_count": 55,
     "metadata": {},
     "output_type": "execute_result"
    }
   ],
   "source": [
    "db.booktags.find_one()"
   ]
  },
  {
   "cell_type": "code",
   "execution_count": 74,
   "metadata": {},
   "outputs": [],
   "source": [
    "new_list = []\n",
    "for tag in find_booktags(2767052):\n",
    "    for word in tag:\n",
    "            new_list.append(word)"
   ]
  },
  {
   "cell_type": "code",
   "execution_count": 75,
   "metadata": {},
   "outputs": [
    {
     "data": {
      "text/plain": [
       "['currently',\n",
       " 'reading',\n",
       " 'young',\n",
       " 'adult',\n",
       " 'fiction',\n",
       " 'favorites',\n",
       " 'to',\n",
       " 'read',\n",
       " 'dystopian',\n",
       " 'fantasy',\n",
       " 'dystopia',\n",
       " 'books',\n",
       " 'i',\n",
       " 'own',\n",
       " 'sci',\n",
       " 'fi',\n",
       " 'science',\n",
       " 'fiction',\n",
       " 'ya',\n",
       " 'series',\n",
       " 'owned',\n",
       " 'favourites',\n",
       " 'romance',\n",
       " 'adventure',\n",
       " 'hunger',\n",
       " 'games',\n",
       " 'kindle',\n",
       " 'book',\n",
       " 'club',\n",
       " 'post',\n",
       " 'apocalyptic',\n",
       " 'teen',\n",
       " 'read',\n",
       " 'in',\n",
       " '2012',\n",
       " 'the',\n",
       " 'hunger',\n",
       " 'games',\n",
       " 'my',\n",
       " 'books',\n",
       " 'action',\n",
       " 'favorite',\n",
       " 'books',\n",
       " 'suzanne',\n",
       " 'collins',\n",
       " 'all',\n",
       " 'time',\n",
       " 'favorites',\n",
       " 'ya',\n",
       " 'fiction',\n",
       " 'survival',\n",
       " 'sci',\n",
       " 'fi',\n",
       " 'fantasy',\n",
       " 'books',\n",
       " 'favorite',\n",
       " '5',\n",
       " 'stars',\n",
       " 'scifi',\n",
       " 're',\n",
       " 'read',\n",
       " 'read',\n",
       " 'in',\n",
       " '2011',\n",
       " 'i',\n",
       " 'own',\n",
       " 'novels',\n",
       " 'ebook',\n",
       " 'audiobook',\n",
       " 'young',\n",
       " 'adult',\n",
       " 'fiction',\n",
       " 'my',\n",
       " 'favorites',\n",
       " 'thriller',\n",
       " 'audiobooks',\n",
       " 'read',\n",
       " '2012',\n",
       " 'ebooks',\n",
       " 'library',\n",
       " 'default',\n",
       " 'fantasy',\n",
       " 'sci',\n",
       " 'fi',\n",
       " 'shelfari',\n",
       " 'favorites',\n",
       " 'futuristic',\n",
       " 'read',\n",
       " 'in',\n",
       " '2010',\n",
       " 'favorite',\n",
       " 'series',\n",
       " 'faves',\n",
       " 'my',\n",
       " 'library',\n",
       " 'teen',\n",
       " 'fiction',\n",
       " 'reread',\n",
       " 'suspense',\n",
       " 'ya',\n",
       " 'lit',\n",
       " 'ya',\n",
       " 'books',\n",
       " 'own',\n",
       " 'it',\n",
       " 'finished',\n",
       " 'action',\n",
       " 'adventure',\n",
       " 'audio',\n",
       " 'love',\n",
       " 'triangle',\n",
       " 'love',\n",
       " 'favs',\n",
       " 'loved',\n",
       " 'distopia',\n",
       " 'read',\n",
       " 'in',\n",
       " '2013',\n",
       " 'dystopian',\n",
       " 'fiction',\n",
       " 'coming',\n",
       " 'of',\n",
       " 'age',\n",
       " 'to',\n",
       " 'buy',\n",
       " 'borrowed',\n",
       " 'distopian',\n",
       " 'read',\n",
       " 'more',\n",
       " 'than',\n",
       " 'once',\n",
       " 'english',\n",
       " 'ya',\n",
       " 'fantasy',\n",
       " 'novel',\n",
       " 'read',\n",
       " '2011',\n",
       " 'favourite',\n",
       " 'read',\n",
       " 'in',\n",
       " '2014',\n",
       " 'contemporary',\n",
       " 'scifi',\n",
       " 'fantasy',\n",
       " 'dystopias',\n",
       " 'future',\n",
       " 'e',\n",
       " 'book',\n",
       " 'trilogy',\n",
       " 'reviewed',\n",
       " 'ya',\n",
       " 'dystopian',\n",
       " 'favourite',\n",
       " 'books',\n",
       " 'speculative',\n",
       " 'fiction',\n",
       " '2012',\n",
       " 'reads',\n",
       " 'drama',\n",
       " 'finished',\n",
       " 'series',\n",
       " 'completed',\n",
       " 'series',\n",
       " 'sf',\n",
       " '5',\n",
       " 'star']"
      ]
     },
     "execution_count": 75,
     "metadata": {},
     "output_type": "execute_result"
    }
   ],
   "source": [
    "new_list"
   ]
  },
  {
   "cell_type": "code",
   "execution_count": 131,
   "metadata": {},
   "outputs": [],
   "source": [
    "def find_booktags (ID):\n",
    "    booktag_list = []\n",
    "    for book in db.booktags.find({'goodreads_book_id': ID}):\n",
    "        booktag_list.append(book['tag_id'])\n",
    "    return booktag_list"
   ]
  },
  {
   "cell_type": "code",
   "execution_count": 132,
   "metadata": {},
   "outputs": [
    {
     "data": {
      "text/plain": [
       "[30574,\n",
       " 11305,\n",
       " 8717,\n",
       " 27199,\n",
       " 11590,\n",
       " 18886,\n",
       " 6953,\n",
       " 11743,\n",
       " 11557,\n",
       " 1691,\n",
       " 24960,\n",
       " 6857,\n",
       " 15965,\n",
       " 6888,\n",
       " 33114,\n",
       " 32989,\n",
       " 22743,\n",
       " 26785,\n",
       " 22753,\n",
       " 6828,\n",
       " 2104,\n",
       " 14017,\n",
       " 9221,\n",
       " 5207,\n",
       " 20774,\n",
       " 7457,\n",
       " 25765,\n",
       " 15169,\n",
       " 3389,\n",
       " 1128,\n",
       " 6895,\n",
       " 17124,\n",
       " 11505,\n",
       " 22034,\n",
       " 11370,\n",
       " 11497,\n",
       " 19974,\n",
       " 3392,\n",
       " 22973,\n",
       " 25234,\n",
       " 29452,\n",
       " 20849,\n",
       " 33009,\n",
       " 10644,\n",
       " 32623,\n",
       " 31617,\n",
       " 5751,\n",
       " 16427,\n",
       " 5090,\n",
       " 25152,\n",
       " 29011,\n",
       " 20939,\n",
       " 24964,\n",
       " 14024,\n",
       " 22689,\n",
       " 33012,\n",
       " 20824,\n",
       " 18045,\n",
       " 6960,\n",
       " 33124,\n",
       " 3371,\n",
       " 21989,\n",
       " 615,\n",
       " 32654,\n",
       " 26897,\n",
       " 11550,\n",
       " 18851,\n",
       " 27535,\n",
       " 25151,\n",
       " 11491,\n",
       " 17213,\n",
       " 11574,\n",
       " 25150,\n",
       " 6838,\n",
       " 17129,\n",
       " 30573,\n",
       " 10197,\n",
       " 25770,\n",
       " 30521,\n",
       " 26138,\n",
       " 2106,\n",
       " 33165,\n",
       " 16799,\n",
       " 25167,\n",
       " 8055,\n",
       " 25153,\n",
       " 10641,\n",
       " 1120,\n",
       " 6920,\n",
       " 11579,\n",
       " 22352,\n",
       " 6914,\n",
       " 20781,\n",
       " 26842,\n",
       " 5444,\n",
       " 11595,\n",
       " 18913,\n",
       " 24092,\n",
       " 7852,\n",
       " 6829]"
      ]
     },
     "execution_count": 132,
     "metadata": {},
     "output_type": "execute_result"
    }
   ],
   "source": [
    "find_booktags(1)"
   ]
  },
  {
   "cell_type": "code",
   "execution_count": 130,
   "metadata": {},
   "outputs": [
    {
     "name": "stdout",
     "output_type": "stream",
     "text": [
      "[30574, 11305, 8717, 27199, 11590, 18886, 6953, 11743, 11557, 1691, 24960, 6857, 15965, 6888, 33114, 32989, 22743, 26785, 22753, 6828, 2104, 14017, 9221, 5207, 20774, 7457, 25765, 15169, 3389, 1128, 6895, 17124, 11505, 22034, 11370, 11497, 19974, 3392, 22973, 25234, 29452, 20849, 33009, 10644, 32623, 31617, 5751, 16427, 5090, 25152, 29011, 20939, 24964, 14024, 22689, 33012, 20824, 18045, 6960, 33124, 3371, 21989, 615, 32654, 26897, 11550, 18851, 27535, 25151, 11491, 17213, 11574, 25150, 6838, 17129, 30573, 10197, 25770, 30521, 26138, 2106, 33165, 16799, 25167, 8055, 25153, 10641, 1120, 6920, 11579, 22352, 6914, 20781, 26842, 5444, 11595, 18913, 24092, 7852, 6829]\n"
     ]
    }
   ],
   "source": [
    "booktag_list = []\n",
    "for book in db.booktags.find({'goodreads_book_id': 1}):\n",
    "    booktag_list.append(book['tag_id'])\n",
    "print (booktag_list)"
   ]
  },
  {
   "cell_type": "code",
   "execution_count": null,
   "metadata": {},
   "outputs": [],
   "source": [
    "for book in db.booktags.find({'goodreads_book_id':ID}):\n",
    "        tagid = (book['tag_id'])\n",
    "        for tag in db.tags.find({'tag_id':tagid}):\n",
    "            booktag_list.append(tag['tag_name'].split('-'))\n",
    "    return(booktag_list)"
   ]
  },
  {
   "cell_type": "code",
   "execution_count": 67,
   "metadata": {},
   "outputs": [
    {
     "name": "stdout",
     "output_type": "stream",
     "text": [
      "{'_id': ObjectId('5b8885d321c3f05eea6319a1')}\n",
      "{'_id': ObjectId('5b8885d221c3f05eea60fc16')}\n",
      "{'_id': ObjectId('5b8885cb21c3f05eea5832df')}\n",
      "{'_id': ObjectId('5b8885d021c3f05eea5fa888')}\n",
      "{'_id': ObjectId('5b8885ce21c3f05eea5be2c5')}\n"
     ]
    }
   ],
   "source": [
    "for book in db.booktags.aggregate([{'$sample':{'size':5}}]):\n",
    "    #print(book)\n",
    "    #print(book['_id'])\n",
    "    print({'_id':book['_id']}, {'$set':{'tags': }})\n",
    "\n",
    "    \n",
    "#db.news.update({'_id':doc['_id']}, {'$set':{'cleaned_content1':cc}}) "
   ]
  },
  {
   "cell_type": "code",
   "execution_count": null,
   "metadata": {},
   "outputs": [],
   "source": []
  },
  {
   "cell_type": "code",
   "execution_count": 110,
   "metadata": {},
   "outputs": [
    {
     "data": {
      "text/plain": [
       "1"
      ]
     },
     "execution_count": 110,
     "metadata": {},
     "output_type": "execute_result"
    }
   ],
   "source": [
    "db.booktags.find_one()['goodreads_book_id']"
   ]
  },
  {
   "cell_type": "code",
   "execution_count": null,
   "metadata": {},
   "outputs": [],
   "source": [
    "def find_booktags(ID):\n",
    "    booktag_list = []          \n",
    "    for book in db.booktags.find({'goodreads_book_id':ID}):\n",
    "        tagid = (book['tag_id'])\n",
    "        for tag in db.tags.find({'tag_id':tagid}):\n",
    "            booktag_list.append(tag['tag_name'].split('-'))\n",
    "    return(booktag_list)"
   ]
  },
  {
   "cell_type": "code",
   "execution_count": 106,
   "metadata": {},
   "outputs": [
    {
     "data": {
      "text/plain": [
       "[['currently', 'reading'],\n",
       " ['young', 'adult'],\n",
       " ['fiction'],\n",
       " ['favorites'],\n",
       " ['to', 'read'],\n",
       " ['dystopian'],\n",
       " ['fantasy'],\n",
       " ['dystopia'],\n",
       " ['books', 'i', 'own'],\n",
       " ['sci', 'fi'],\n",
       " ['science', 'fiction'],\n",
       " ['ya'],\n",
       " ['series'],\n",
       " ['owned'],\n",
       " ['favourites'],\n",
       " ['romance'],\n",
       " ['adventure'],\n",
       " ['hunger', 'games'],\n",
       " ['kindle'],\n",
       " ['book', 'club'],\n",
       " ['post', 'apocalyptic'],\n",
       " ['teen'],\n",
       " ['read', 'in', '2012'],\n",
       " ['the', 'hunger', 'games'],\n",
       " ['my', 'books'],\n",
       " ['action'],\n",
       " ['favorite', 'books'],\n",
       " ['suzanne', 'collins'],\n",
       " ['all', 'time', 'favorites'],\n",
       " ['ya', 'fiction'],\n",
       " ['survival'],\n",
       " ['sci', 'fi', 'fantasy'],\n",
       " ['books'],\n",
       " ['favorite'],\n",
       " ['5', 'stars'],\n",
       " ['scifi'],\n",
       " ['re', 'read'],\n",
       " ['read', 'in', '2011'],\n",
       " ['i', 'own'],\n",
       " ['novels'],\n",
       " ['ebook'],\n",
       " ['audiobook'],\n",
       " ['young', 'adult', 'fiction'],\n",
       " ['my', 'favorites'],\n",
       " ['thriller'],\n",
       " ['audiobooks'],\n",
       " ['read', '2012'],\n",
       " ['ebooks'],\n",
       " ['library'],\n",
       " ['default'],\n",
       " ['fantasy', 'sci', 'fi'],\n",
       " ['shelfari', 'favorites'],\n",
       " ['futuristic'],\n",
       " ['read', 'in', '2010'],\n",
       " ['favorite', 'series'],\n",
       " ['faves'],\n",
       " ['my', 'library'],\n",
       " ['teen', 'fiction'],\n",
       " ['reread'],\n",
       " ['suspense'],\n",
       " ['ya', 'lit'],\n",
       " ['ya', 'books'],\n",
       " ['own', 'it'],\n",
       " ['finished'],\n",
       " ['action', 'adventure'],\n",
       " ['audio'],\n",
       " ['love', 'triangle'],\n",
       " ['love'],\n",
       " ['favs'],\n",
       " ['loved'],\n",
       " ['distopia'],\n",
       " ['read', 'in', '2013'],\n",
       " ['dystopian', 'fiction'],\n",
       " ['coming', 'of', 'age'],\n",
       " ['to', 'buy'],\n",
       " ['borrowed'],\n",
       " ['distopian'],\n",
       " ['read', 'more', 'than', 'once'],\n",
       " ['english'],\n",
       " ['ya', 'fantasy'],\n",
       " ['novel'],\n",
       " ['read', '2011'],\n",
       " ['favourite'],\n",
       " ['read', 'in', '2014'],\n",
       " ['contemporary'],\n",
       " ['scifi', 'fantasy'],\n",
       " ['dystopias'],\n",
       " ['future'],\n",
       " ['e', 'book'],\n",
       " ['trilogy'],\n",
       " ['reviewed'],\n",
       " ['ya', 'dystopian'],\n",
       " ['favourite', 'books'],\n",
       " ['speculative', 'fiction'],\n",
       " ['2012', 'reads'],\n",
       " ['drama'],\n",
       " ['finished', 'series'],\n",
       " ['completed', 'series'],\n",
       " ['sf'],\n",
       " ['5', 'star']]"
      ]
     },
     "execution_count": 106,
     "metadata": {},
     "output_type": "execute_result"
    }
   ],
   "source": [
    "find_booktags(2767052)"
   ]
  },
  {
   "cell_type": "code",
   "execution_count": null,
   "metadata": {},
   "outputs": [],
   "source": []
  },
  {
   "cell_type": "code",
   "execution_count": null,
   "metadata": {},
   "outputs": [],
   "source": []
  },
  {
   "cell_type": "code",
   "execution_count": null,
   "metadata": {},
   "outputs": [],
   "source": []
  },
  {
   "cell_type": "code",
   "execution_count": null,
   "metadata": {},
   "outputs": [],
   "source": []
  },
  {
   "cell_type": "code",
   "execution_count": null,
   "metadata": {},
   "outputs": [],
   "source": []
  },
  {
   "cell_type": "code",
   "execution_count": null,
   "metadata": {},
   "outputs": [],
   "source": []
  },
  {
   "cell_type": "code",
   "execution_count": null,
   "metadata": {},
   "outputs": [],
   "source": [
    "def get_goodreads_ids():\n",
    "    '''\n",
    "    Returns list of 10,000 goodreads books by ID\n",
    "    '''\n",
    "    goodreads_id_list = []\n",
    "    for book in db.books.find():\n",
    "        goodreads_id_list.append(book['goodreads_book_id'])\n",
    "    return goodreads_id_list"
   ]
  },
  {
   "cell_type": "code",
   "execution_count": null,
   "metadata": {},
   "outputs": [],
   "source": [
    "def find_booktags (ID):\n",
    "    '''\n",
    "    Finds booktag ID numbers associated with each goodread\n",
    "    '''\n",
    "    booktag_list = []\n",
    "    for book in db.booktags.find({'goodreads_book_id': ID}):\n",
    "        booktag_list.append(book['tag_id'])\n",
    "    return booktag_list"
   ]
  },
  {
   "cell_type": "code",
   "execution_count": null,
   "metadata": {},
   "outputs": [],
   "source": [
    "def find_booktags(ID):\n",
    "    booktag_list = []          \n",
    "    for book in db.booktags.find({'goodreads_book_id':ID}):\n",
    "        tagid = (book['tag_id'])\n",
    "        for tag in db.tags.find({'tag_id':tagid}):\n",
    "            booktag_list.append(tag['tag_name'].split('-'))\n",
    "    return(booktag_list)"
   ]
  },
  {
   "cell_type": "code",
   "execution_count": 133,
   "metadata": {},
   "outputs": [],
   "source": [
    "def find_booktags_old(ID):\n",
    "    '''\n",
    "    Finds descriptive 'tags' for all goodreads books and looks up associated tag name\n",
    "    '''\n",
    "    booktag_list = []          \n",
    "    for book in db.booktags.find({'goodreads_book_id':ID}):\n",
    "        tagid = (book['tag_id'])\n",
    "        for tag in db.tags.find({'tag_id':tagid}):\n",
    "            try:\n",
    "                booktag_list.append(tag['tag_name'].split('-'))\n",
    "            except:\n",
    "                booktag_list.append(str(tag['tag_name']).split('-'))\n",
    "    return(booktag_list)"
   ]
  },
  {
   "cell_type": "code",
   "execution_count": 134,
   "metadata": {},
   "outputs": [
    {
     "data": {
      "text/plain": [
       "[['to', 'read'],\n",
       " ['fantasy'],\n",
       " ['currently', 'reading'],\n",
       " ['series'],\n",
       " ['favourites'],\n",
       " ['magic'],\n",
       " ['childrens'],\n",
       " ['fiction'],\n",
       " ['favorites'],\n",
       " ['adventure'],\n",
       " ['re', 'read'],\n",
       " ['children'],\n",
       " ['j', 'k', 'rowling'],\n",
       " ['children', 's'],\n",
       " ['young', 'adult'],\n",
       " ['ya'],\n",
       " ['owned'],\n",
       " ['sci', 'fi', 'fantasy'],\n",
       " ['owned', 'books'],\n",
       " ['childhood'],\n",
       " ['all', 'time', 'favorites'],\n",
       " ['harry', 'potter'],\n",
       " ['default'],\n",
       " ['books', 'i', 'own'],\n",
       " ['my', 'books'],\n",
       " ['classics'],\n",
       " ['reread'],\n",
       " ['i', 'own'],\n",
       " ['audiobook'],\n",
       " ['5', 'stars'],\n",
       " ['children', 's', 'books'],\n",
       " ['kids'],\n",
       " ['favorite', 'books'],\n",
       " ['novels'],\n",
       " ['fantasy', 'sci', 'fi'],\n",
       " ['favorite'],\n",
       " ['middle', 'grade'],\n",
       " ['audiobooks'],\n",
       " ['paranormal'],\n",
       " ['read', 'more', 'than', 'once'],\n",
       " ['teen'],\n",
       " ['my', 'library'],\n",
       " ['ya', 'fantasy'],\n",
       " ['english'],\n",
       " ['witches'],\n",
       " ['urban', 'fantasy'],\n",
       " ['british'],\n",
       " ['jk', 'rowling'],\n",
       " ['books'],\n",
       " ['read', 'in', '2016'],\n",
       " ['supernatural'],\n",
       " ['mystery'],\n",
       " ['re', 'reads'],\n",
       " ['harry', 'potter', 'series'],\n",
       " ['own', 'it'],\n",
       " ['ya', 'fiction'],\n",
       " ['my', 'favorites'],\n",
       " ['library'],\n",
       " ['childrens', 'books'],\n",
       " ['young', 'adult', 'fiction'],\n",
       " ['audio'],\n",
       " ['novel'],\n",
       " ['2005'],\n",
       " ['wizards'],\n",
       " ['scifi', 'fantasy'],\n",
       " ['favorite', 'series'],\n",
       " ['made', 'me', 'cry'],\n",
       " ['shelfari', 'favorites'],\n",
       " ['read', 'in', '2015'],\n",
       " ['faves'],\n",
       " ['kindle'],\n",
       " ['favourite'],\n",
       " ['read', 'in', '2014'],\n",
       " ['childhood', 'favorites'],\n",
       " ['kids', 'books'],\n",
       " ['to', 're', 'read'],\n",
       " ['ebook'],\n",
       " ['rereads'],\n",
       " ['to', 'buy'],\n",
       " ['romance'],\n",
       " ['all', 'time', 'favourites'],\n",
       " ['youth'],\n",
       " ['juvenile'],\n",
       " ['read', 'in', 'english'],\n",
       " ['contemporary'],\n",
       " ['read', 'in', '2017'],\n",
       " ['england'],\n",
       " ['5', 'star'],\n",
       " ['children', 's', 'literature'],\n",
       " ['favourite', 'books'],\n",
       " ['on', 'my', 'shelf'],\n",
       " ['children', 's', 'lit'],\n",
       " ['my', 'bookshelf'],\n",
       " ['science', 'fiction', 'fantasy'],\n",
       " ['bookshelf'],\n",
       " ['favs'],\n",
       " ['magical'],\n",
       " ['potter'],\n",
       " ['coming', 'of', 'age'],\n",
       " ['childhood', 'books']]"
      ]
     },
     "execution_count": 134,
     "metadata": {},
     "output_type": "execute_result"
    }
   ],
   "source": [
    "find_booktags_old(1)"
   ]
  },
  {
   "cell_type": "code",
   "execution_count": 156,
   "metadata": {},
   "outputs": [],
   "source": [
    "import pickle\n",
    "\n",
    "with open('removed_tags.pickle','rb') as read_file:\n",
    "    removed_tags = pickle.load(read_file)\n",
    "\n",
    "removed_tag_list = []\n",
    "\n",
    "for tag in removed_tags:\n",
    "    for word in tag:\n",
    "        removed_tag_list.append(word)\n",
    "\n",
    "stop_words = stopwords.words('english')\n",
    "\n",
    "removed_words = removed_tag_list + stop_words"
   ]
  },
  {
   "cell_type": "code",
   "execution_count": 157,
   "metadata": {},
   "outputs": [],
   "source": [
    "def create_booktag_list(ID):\n",
    "    vector_list = []        \n",
    "    book_word_list = []\n",
    "    for tag in find_booktags_old(ID):\n",
    "        for word in tag:\n",
    "            if word not in removed_words:\n",
    "                book_word_list.append(word)\n",
    "    vector_list.append(book_word_list)\n",
    "    return vector_list"
   ]
  },
  {
   "cell_type": "code",
   "execution_count": 158,
   "metadata": {},
   "outputs": [
    {
     "data": {
      "text/plain": [
       "[['fantasy',\n",
       "  'series',\n",
       "  'magic',\n",
       "  'childrens',\n",
       "  'adventure',\n",
       "  'children',\n",
       "  'j',\n",
       "  'k',\n",
       "  'rowling',\n",
       "  'children',\n",
       "  'young',\n",
       "  'ya',\n",
       "  'sci',\n",
       "  'fi',\n",
       "  'fantasy',\n",
       "  'childhood',\n",
       "  'time',\n",
       "  'harry',\n",
       "  'potter',\n",
       "  'classics',\n",
       "  'reread',\n",
       "  '5',\n",
       "  'stars',\n",
       "  'children',\n",
       "  'kids',\n",
       "  'favorite',\n",
       "  'fantasy',\n",
       "  'sci',\n",
       "  'fi',\n",
       "  'favorite',\n",
       "  'middle',\n",
       "  'grade',\n",
       "  'paranormal',\n",
       "  'teen',\n",
       "  'ya',\n",
       "  'fantasy',\n",
       "  'english',\n",
       "  'witches',\n",
       "  'urban',\n",
       "  'fantasy',\n",
       "  'british',\n",
       "  'jk',\n",
       "  'rowling',\n",
       "  '2016',\n",
       "  'supernatural',\n",
       "  'mystery',\n",
       "  'reads',\n",
       "  'harry',\n",
       "  'potter',\n",
       "  'series',\n",
       "  'ya',\n",
       "  'childrens',\n",
       "  'young',\n",
       "  'novel',\n",
       "  '2005',\n",
       "  'wizards',\n",
       "  'scifi',\n",
       "  'fantasy',\n",
       "  'favorite',\n",
       "  'series',\n",
       "  'made',\n",
       "  'cry',\n",
       "  'shelfari',\n",
       "  '2015',\n",
       "  'faves',\n",
       "  'favourite',\n",
       "  '2014',\n",
       "  'childhood',\n",
       "  'kids',\n",
       "  'rereads',\n",
       "  'romance',\n",
       "  'time',\n",
       "  'youth',\n",
       "  'juvenile',\n",
       "  'english',\n",
       "  '2017',\n",
       "  'england',\n",
       "  '5',\n",
       "  'star',\n",
       "  'children',\n",
       "  'literature',\n",
       "  'favourite',\n",
       "  'shelf',\n",
       "  'children',\n",
       "  'lit',\n",
       "  'bookshelf',\n",
       "  'science',\n",
       "  'fantasy',\n",
       "  'bookshelf',\n",
       "  'favs',\n",
       "  'magical',\n",
       "  'potter',\n",
       "  'coming',\n",
       "  'age',\n",
       "  'childhood']]"
      ]
     },
     "execution_count": 158,
     "metadata": {},
     "output_type": "execute_result"
    }
   ],
   "source": [
    "create_booktag_list(1)"
   ]
  },
  {
   "cell_type": "code",
   "execution_count": 162,
   "metadata": {},
   "outputs": [],
   "source": [
    "def create_booktag_list(ID):\n",
    "    book_word_list = []\n",
    "    for tag in find_booktags_old(ID):\n",
    "        for word in tag:\n",
    "            if word not in removed_words:\n",
    "                book_word_list.append(word)\n",
    "    return book_word_list"
   ]
  },
  {
   "cell_type": "code",
   "execution_count": 163,
   "metadata": {},
   "outputs": [
    {
     "data": {
      "text/plain": [
       "['fantasy',\n",
       " 'series',\n",
       " 'magic',\n",
       " 'childrens',\n",
       " 'adventure',\n",
       " 'children',\n",
       " 'j',\n",
       " 'k',\n",
       " 'rowling',\n",
       " 'children',\n",
       " 'young',\n",
       " 'ya',\n",
       " 'sci',\n",
       " 'fi',\n",
       " 'fantasy',\n",
       " 'childhood',\n",
       " 'time',\n",
       " 'harry',\n",
       " 'potter',\n",
       " 'classics',\n",
       " 'reread',\n",
       " '5',\n",
       " 'stars',\n",
       " 'children',\n",
       " 'kids',\n",
       " 'favorite',\n",
       " 'fantasy',\n",
       " 'sci',\n",
       " 'fi',\n",
       " 'favorite',\n",
       " 'middle',\n",
       " 'grade',\n",
       " 'paranormal',\n",
       " 'teen',\n",
       " 'ya',\n",
       " 'fantasy',\n",
       " 'english',\n",
       " 'witches',\n",
       " 'urban',\n",
       " 'fantasy',\n",
       " 'british',\n",
       " 'jk',\n",
       " 'rowling',\n",
       " '2016',\n",
       " 'supernatural',\n",
       " 'mystery',\n",
       " 'reads',\n",
       " 'harry',\n",
       " 'potter',\n",
       " 'series',\n",
       " 'ya',\n",
       " 'childrens',\n",
       " 'young',\n",
       " 'novel',\n",
       " '2005',\n",
       " 'wizards',\n",
       " 'scifi',\n",
       " 'fantasy',\n",
       " 'favorite',\n",
       " 'series',\n",
       " 'made',\n",
       " 'cry',\n",
       " 'shelfari',\n",
       " '2015',\n",
       " 'faves',\n",
       " 'favourite',\n",
       " '2014',\n",
       " 'childhood',\n",
       " 'kids',\n",
       " 'rereads',\n",
       " 'romance',\n",
       " 'time',\n",
       " 'youth',\n",
       " 'juvenile',\n",
       " 'english',\n",
       " '2017',\n",
       " 'england',\n",
       " '5',\n",
       " 'star',\n",
       " 'children',\n",
       " 'literature',\n",
       " 'favourite',\n",
       " 'shelf',\n",
       " 'children',\n",
       " 'lit',\n",
       " 'bookshelf',\n",
       " 'science',\n",
       " 'fantasy',\n",
       " 'bookshelf',\n",
       " 'favs',\n",
       " 'magical',\n",
       " 'potter',\n",
       " 'coming',\n",
       " 'age',\n",
       " 'childhood']"
      ]
     },
     "execution_count": 163,
     "metadata": {},
     "output_type": "execute_result"
    }
   ],
   "source": [
    "create_booktag_list(1)"
   ]
  },
  {
   "cell_type": "code",
   "execution_count": null,
   "metadata": {},
   "outputs": [],
   "source": []
  }
 ],
 "metadata": {
  "kernelspec": {
   "display_name": "Python 3",
   "language": "python",
   "name": "python3"
  },
  "language_info": {
   "codemirror_mode": {
    "name": "ipython",
    "version": 3
   },
   "file_extension": ".py",
   "mimetype": "text/x-python",
   "name": "python",
   "nbconvert_exporter": "python",
   "pygments_lexer": "ipython3",
   "version": "3.6.5"
  }
 },
 "nbformat": 4,
 "nbformat_minor": 2
}
